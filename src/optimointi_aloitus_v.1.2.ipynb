{
 "cells": [
  {
   "cell_type": "markdown",
   "metadata": {},
   "source": [
    "# Modeling the Tissue-curve for the PET-Center Turku\n",
    "\n",
    "### First we need to import libraries for the analysis:\n",
    "\n",
    "Numpy is a numerical library that provides mathematical tools for python. Matplotlib is used for plotting and pandas is used for dataframe manipulation. Scipy is a library that provides algorithms for optimization, integration, interpolation, eigenvalue problems, algebraic equations, differential equations, statistics and many other classes of problems. From scipy we only need functions for optimization and interpolation.\n",
    "\n",
    "We also have created a python module called functions where we define more functions. We explain aforementioned functions as we use them but you can also view the source code in the same source as this notebook."
   ]
  },
  {
   "cell_type": "code",
   "execution_count": 1,
   "metadata": {},
   "outputs": [],
   "source": [
    "import numpy as np\n",
    "import matplotlib.pyplot as plt\n",
    "import pandas as pd\n",
    "from scipy.interpolate import interp1d\n",
    "import scipy.optimize as optimize\n",
    "from functions import *"
   ]
  },
  {
   "cell_type": "markdown",
   "metadata": {},
   "source": [
    "### Importing data\n",
    "\n",
    "The data is provided in one Excel-file that has multiple sheets. We need to iterate through all of the sheets and save the data from each one of the sheets to the pandas dataframe for easier access. In the loop we iterate through all of the sheets, add them to a list of dataframes and in the end combine all six of the dataframes into one main dataframe.\n",
    "\n",
    "We are also defining a new variable in the dataframe called midpoint. Midpoint is a real value that is defined as the midwaypoint between the time_start and the time_end timestamps."
   ]
  },
  {
   "cell_type": "code",
   "execution_count": 2,
   "metadata": {},
   "outputs": [
    {
     "name": "stderr",
     "output_type": "stream",
     "text": [
      "/home/mikael/anaconda3/lib/python3.7/site-packages/pandas/core/frame.py:3494: SettingWithCopyWarning: \n",
      "A value is trying to be set on a copy of a slice from a DataFrame.\n",
      "Try using .loc[row_indexer,col_indexer] = value instead\n",
      "\n",
      "See the caveats in the documentation: http://pandas.pydata.org/pandas-docs/stable/user_guide/indexing.html#returning-a-view-versus-a-copy\n",
      "  self[k1] = value[k2]\n"
     ]
    },
    {
     "data": {
      "text/html": [
       "<div>\n",
       "<style scoped>\n",
       "    .dataframe tbody tr th:only-of-type {\n",
       "        vertical-align: middle;\n",
       "    }\n",
       "\n",
       "    .dataframe tbody tr th {\n",
       "        vertical-align: top;\n",
       "    }\n",
       "\n",
       "    .dataframe thead th {\n",
       "        text-align: right;\n",
       "    }\n",
       "</style>\n",
       "<table border=\"1\" class=\"dataframe\">\n",
       "  <thead>\n",
       "    <tr style=\"text-align: right;\">\n",
       "      <th></th>\n",
       "      <th>input</th>\n",
       "      <th>tissue</th>\n",
       "      <th>time_start</th>\n",
       "      <th>time_end</th>\n",
       "      <th>sample</th>\n",
       "      <th>flow</th>\n",
       "      <th>midpoint</th>\n",
       "    </tr>\n",
       "  </thead>\n",
       "  <tbody>\n",
       "    <tr>\n",
       "      <td>5</td>\n",
       "      <td>1.456478e+03</td>\n",
       "      <td>407.96191</td>\n",
       "      <td>0</td>\n",
       "      <td>5</td>\n",
       "      <td>2</td>\n",
       "      <td>300</td>\n",
       "      <td>2.5</td>\n",
       "    </tr>\n",
       "    <tr>\n",
       "      <td>6</td>\n",
       "      <td>1.278932e+03</td>\n",
       "      <td>459.05683</td>\n",
       "      <td>5</td>\n",
       "      <td>10</td>\n",
       "      <td>2</td>\n",
       "      <td>300</td>\n",
       "      <td>7.5</td>\n",
       "    </tr>\n",
       "    <tr>\n",
       "      <td>7</td>\n",
       "      <td>2.265328e+04</td>\n",
       "      <td>646.44457</td>\n",
       "      <td>10</td>\n",
       "      <td>15</td>\n",
       "      <td>2</td>\n",
       "      <td>300</td>\n",
       "      <td>12.5</td>\n",
       "    </tr>\n",
       "    <tr>\n",
       "      <td>8</td>\n",
       "      <td>4.574733e+05</td>\n",
       "      <td>10505.08901</td>\n",
       "      <td>15</td>\n",
       "      <td>20</td>\n",
       "      <td>2</td>\n",
       "      <td>300</td>\n",
       "      <td>17.5</td>\n",
       "    </tr>\n",
       "    <tr>\n",
       "      <td>9</td>\n",
       "      <td>1.643083e+06</td>\n",
       "      <td>89934.22971</td>\n",
       "      <td>20</td>\n",
       "      <td>25</td>\n",
       "      <td>2</td>\n",
       "      <td>300</td>\n",
       "      <td>22.5</td>\n",
       "    </tr>\n",
       "    <tr>\n",
       "      <td>...</td>\n",
       "      <td>...</td>\n",
       "      <td>...</td>\n",
       "      <td>...</td>\n",
       "      <td>...</td>\n",
       "      <td>...</td>\n",
       "      <td>...</td>\n",
       "      <td>...</td>\n",
       "    </tr>\n",
       "    <tr>\n",
       "      <td>24</td>\n",
       "      <td>1.392625e+06</td>\n",
       "      <td>784895.39999</td>\n",
       "      <td>140</td>\n",
       "      <td>160</td>\n",
       "      <td>1</td>\n",
       "      <td>100</td>\n",
       "      <td>150.0</td>\n",
       "    </tr>\n",
       "    <tr>\n",
       "      <td>25</td>\n",
       "      <td>6.902623e+05</td>\n",
       "      <td>925024.12368</td>\n",
       "      <td>160</td>\n",
       "      <td>190</td>\n",
       "      <td>1</td>\n",
       "      <td>100</td>\n",
       "      <td>175.0</td>\n",
       "    </tr>\n",
       "    <tr>\n",
       "      <td>26</td>\n",
       "      <td>2.563172e+05</td>\n",
       "      <td>870937.93689</td>\n",
       "      <td>190</td>\n",
       "      <td>220</td>\n",
       "      <td>1</td>\n",
       "      <td>100</td>\n",
       "      <td>205.0</td>\n",
       "    </tr>\n",
       "    <tr>\n",
       "      <td>27</td>\n",
       "      <td>7.789175e+04</td>\n",
       "      <td>634442.87209</td>\n",
       "      <td>220</td>\n",
       "      <td>250</td>\n",
       "      <td>1</td>\n",
       "      <td>100</td>\n",
       "      <td>235.0</td>\n",
       "    </tr>\n",
       "    <tr>\n",
       "      <td>28</td>\n",
       "      <td>2.397860e+04</td>\n",
       "      <td>369306.60994</td>\n",
       "      <td>250</td>\n",
       "      <td>280</td>\n",
       "      <td>1</td>\n",
       "      <td>100</td>\n",
       "      <td>265.0</td>\n",
       "    </tr>\n",
       "  </tbody>\n",
       "</table>\n",
       "<p>144 rows × 7 columns</p>\n",
       "</div>"
      ],
      "text/plain": [
       "           input        tissue  time_start  time_end  sample  flow  midpoint\n",
       "5   1.456478e+03     407.96191           0         5       2   300       2.5\n",
       "6   1.278932e+03     459.05683           5        10       2   300       7.5\n",
       "7   2.265328e+04     646.44457          10        15       2   300      12.5\n",
       "8   4.574733e+05   10505.08901          15        20       2   300      17.5\n",
       "9   1.643083e+06   89934.22971          20        25       2   300      22.5\n",
       "..           ...           ...         ...       ...     ...   ...       ...\n",
       "24  1.392625e+06  784895.39999         140       160       1   100     150.0\n",
       "25  6.902623e+05  925024.12368         160       190       1   100     175.0\n",
       "26  2.563172e+05  870937.93689         190       220       1   100     205.0\n",
       "27  7.789175e+04  634442.87209         220       250       1   100     235.0\n",
       "28  2.397860e+04  369306.60994         250       280       1   100     265.0\n",
       "\n",
       "[144 rows x 7 columns]"
      ]
     },
     "execution_count": 2,
     "metadata": {},
     "output_type": "execute_result"
    }
   ],
   "source": [
    "data = pd.read_excel(\"/home/mikael/Documents/SMAT_projekti/TACs.xlsx\", sheet_name=None)\n",
    "relevant_keys = ['PT 300 ml Qclear 2', 'PT 300 ml Qclear 1', 'PT 200 ml Qclear 2', 'PT 200 ml Qclear 1', 'PT 100 ml Qclear 2', 'PT 100 ml Qclear 1']\n",
    "samples = [2, 1, 2, 1, 2, 1]\n",
    "flows = [300, 300, 200, 200, 100, 100]\n",
    "frames = []\n",
    "\n",
    "for key, sample, flow in zip(relevant_keys, samples, flows):\n",
    "    frame = data[key]\n",
    "    df = frame.loc[5:]\n",
    "    df.columns = [\"time\", \"input\", \"tissue\"]\n",
    "    df[['time_start', 'time_end']] = df['time'].str.split(' - ', 1, expand=True)\n",
    "    df = df.assign(sample=sample, flow=flow)\n",
    "    df = df.astype({'input': 'float64', 'tissue': 'float64', 'time_start': 'int32', 'time_end': 'int32'})\n",
    "    df = df.drop([\"time\"], axis=1)\n",
    "    df[\"midpoint\"] = (df[\"time_end\"] + df[\"time_start\"]) / 2\n",
    "    frames.append(df)\n",
    "df = pd.concat(frames)\n",
    "df"
   ]
  },
  {
   "cell_type": "markdown",
   "metadata": {},
   "source": [
    "### Creating more features\n",
    "\n",
    "In our model we are going to need more features than we have in the dataset. We are needing the timepoint where the input curve reaches it's maximum value. We also need to calculate the integral for the tissue curve as we are going to normalize it so the optimization problem becomes easier later on.\n",
    "\n",
    "We group the dataframe by different flow and sample values and calculate aforementioned values for each of the subdataframes. In the end we create a pandas dataframe from our dictionary and merge it with our original dataframe."
   ]
  },
  {
   "cell_type": "code",
   "execution_count": 3,
   "metadata": {},
   "outputs": [
    {
     "data": {
      "text/html": [
       "<div>\n",
       "<style scoped>\n",
       "    .dataframe tbody tr th:only-of-type {\n",
       "        vertical-align: middle;\n",
       "    }\n",
       "\n",
       "    .dataframe tbody tr th {\n",
       "        vertical-align: top;\n",
       "    }\n",
       "\n",
       "    .dataframe thead th {\n",
       "        text-align: right;\n",
       "    }\n",
       "</style>\n",
       "<table border=\"1\" class=\"dataframe\">\n",
       "  <thead>\n",
       "    <tr style=\"text-align: right;\">\n",
       "      <th></th>\n",
       "      <th>input</th>\n",
       "      <th>tissue</th>\n",
       "      <th>time_start</th>\n",
       "      <th>time_end</th>\n",
       "      <th>sample</th>\n",
       "      <th>flow</th>\n",
       "      <th>midpoint</th>\n",
       "      <th>tissue_integral</th>\n",
       "      <th>input_x_max</th>\n",
       "      <th>tissue_x_max</th>\n",
       "    </tr>\n",
       "  </thead>\n",
       "  <tbody>\n",
       "    <tr>\n",
       "      <td>0</td>\n",
       "      <td>1.456478e+03</td>\n",
       "      <td>407.96191</td>\n",
       "      <td>0</td>\n",
       "      <td>5</td>\n",
       "      <td>2</td>\n",
       "      <td>300</td>\n",
       "      <td>2.5</td>\n",
       "      <td>4.000549e+07</td>\n",
       "      <td>28.483992</td>\n",
       "      <td>47.474071</td>\n",
       "    </tr>\n",
       "    <tr>\n",
       "      <td>1</td>\n",
       "      <td>1.278932e+03</td>\n",
       "      <td>459.05683</td>\n",
       "      <td>5</td>\n",
       "      <td>10</td>\n",
       "      <td>2</td>\n",
       "      <td>300</td>\n",
       "      <td>7.5</td>\n",
       "      <td>4.000549e+07</td>\n",
       "      <td>28.483992</td>\n",
       "      <td>47.474071</td>\n",
       "    </tr>\n",
       "    <tr>\n",
       "      <td>2</td>\n",
       "      <td>2.265328e+04</td>\n",
       "      <td>646.44457</td>\n",
       "      <td>10</td>\n",
       "      <td>15</td>\n",
       "      <td>2</td>\n",
       "      <td>300</td>\n",
       "      <td>12.5</td>\n",
       "      <td>4.000549e+07</td>\n",
       "      <td>28.483992</td>\n",
       "      <td>47.474071</td>\n",
       "    </tr>\n",
       "    <tr>\n",
       "      <td>3</td>\n",
       "      <td>4.574733e+05</td>\n",
       "      <td>10505.08901</td>\n",
       "      <td>15</td>\n",
       "      <td>20</td>\n",
       "      <td>2</td>\n",
       "      <td>300</td>\n",
       "      <td>17.5</td>\n",
       "      <td>4.000549e+07</td>\n",
       "      <td>28.483992</td>\n",
       "      <td>47.474071</td>\n",
       "    </tr>\n",
       "    <tr>\n",
       "      <td>4</td>\n",
       "      <td>1.643083e+06</td>\n",
       "      <td>89934.22971</td>\n",
       "      <td>20</td>\n",
       "      <td>25</td>\n",
       "      <td>2</td>\n",
       "      <td>300</td>\n",
       "      <td>22.5</td>\n",
       "      <td>4.000549e+07</td>\n",
       "      <td>28.483992</td>\n",
       "      <td>47.474071</td>\n",
       "    </tr>\n",
       "    <tr>\n",
       "      <td>...</td>\n",
       "      <td>...</td>\n",
       "      <td>...</td>\n",
       "      <td>...</td>\n",
       "      <td>...</td>\n",
       "      <td>...</td>\n",
       "      <td>...</td>\n",
       "      <td>...</td>\n",
       "      <td>...</td>\n",
       "      <td>...</td>\n",
       "      <td>...</td>\n",
       "    </tr>\n",
       "    <tr>\n",
       "      <td>139</td>\n",
       "      <td>1.392625e+06</td>\n",
       "      <td>784895.39999</td>\n",
       "      <td>140</td>\n",
       "      <td>160</td>\n",
       "      <td>1</td>\n",
       "      <td>100</td>\n",
       "      <td>150.0</td>\n",
       "      <td>1.091706e+08</td>\n",
       "      <td>118.793711</td>\n",
       "      <td>182.669720</td>\n",
       "    </tr>\n",
       "    <tr>\n",
       "      <td>140</td>\n",
       "      <td>6.902623e+05</td>\n",
       "      <td>925024.12368</td>\n",
       "      <td>160</td>\n",
       "      <td>190</td>\n",
       "      <td>1</td>\n",
       "      <td>100</td>\n",
       "      <td>175.0</td>\n",
       "      <td>1.091706e+08</td>\n",
       "      <td>118.793711</td>\n",
       "      <td>182.669720</td>\n",
       "    </tr>\n",
       "    <tr>\n",
       "      <td>141</td>\n",
       "      <td>2.563172e+05</td>\n",
       "      <td>870937.93689</td>\n",
       "      <td>190</td>\n",
       "      <td>220</td>\n",
       "      <td>1</td>\n",
       "      <td>100</td>\n",
       "      <td>205.0</td>\n",
       "      <td>1.091706e+08</td>\n",
       "      <td>118.793711</td>\n",
       "      <td>182.669720</td>\n",
       "    </tr>\n",
       "    <tr>\n",
       "      <td>142</td>\n",
       "      <td>7.789175e+04</td>\n",
       "      <td>634442.87209</td>\n",
       "      <td>220</td>\n",
       "      <td>250</td>\n",
       "      <td>1</td>\n",
       "      <td>100</td>\n",
       "      <td>235.0</td>\n",
       "      <td>1.091706e+08</td>\n",
       "      <td>118.793711</td>\n",
       "      <td>182.669720</td>\n",
       "    </tr>\n",
       "    <tr>\n",
       "      <td>143</td>\n",
       "      <td>2.397860e+04</td>\n",
       "      <td>369306.60994</td>\n",
       "      <td>250</td>\n",
       "      <td>280</td>\n",
       "      <td>1</td>\n",
       "      <td>100</td>\n",
       "      <td>265.0</td>\n",
       "      <td>1.091706e+08</td>\n",
       "      <td>118.793711</td>\n",
       "      <td>182.669720</td>\n",
       "    </tr>\n",
       "  </tbody>\n",
       "</table>\n",
       "<p>144 rows × 10 columns</p>\n",
       "</div>"
      ],
      "text/plain": [
       "            input        tissue  time_start  time_end  sample  flow  midpoint  \\\n",
       "0    1.456478e+03     407.96191           0         5       2   300       2.5   \n",
       "1    1.278932e+03     459.05683           5        10       2   300       7.5   \n",
       "2    2.265328e+04     646.44457          10        15       2   300      12.5   \n",
       "3    4.574733e+05   10505.08901          15        20       2   300      17.5   \n",
       "4    1.643083e+06   89934.22971          20        25       2   300      22.5   \n",
       "..            ...           ...         ...       ...     ...   ...       ...   \n",
       "139  1.392625e+06  784895.39999         140       160       1   100     150.0   \n",
       "140  6.902623e+05  925024.12368         160       190       1   100     175.0   \n",
       "141  2.563172e+05  870937.93689         190       220       1   100     205.0   \n",
       "142  7.789175e+04  634442.87209         220       250       1   100     235.0   \n",
       "143  2.397860e+04  369306.60994         250       280       1   100     265.0   \n",
       "\n",
       "     tissue_integral  input_x_max  tissue_x_max  \n",
       "0       4.000549e+07    28.483992     47.474071  \n",
       "1       4.000549e+07    28.483992     47.474071  \n",
       "2       4.000549e+07    28.483992     47.474071  \n",
       "3       4.000549e+07    28.483992     47.474071  \n",
       "4       4.000549e+07    28.483992     47.474071  \n",
       "..               ...          ...           ...  \n",
       "139     1.091706e+08   118.793711    182.669720  \n",
       "140     1.091706e+08   118.793711    182.669720  \n",
       "141     1.091706e+08   118.793711    182.669720  \n",
       "142     1.091706e+08   118.793711    182.669720  \n",
       "143     1.091706e+08   118.793711    182.669720  \n",
       "\n",
       "[144 rows x 10 columns]"
      ]
     },
     "execution_count": 3,
     "metadata": {},
     "output_type": "execute_result"
    }
   ],
   "source": [
    "feature_df = {\n",
    "    \"flow\": [],\n",
    "    \"sample\": [],\n",
    "    \"tissue_integral\": [],\n",
    "    \"input_x_max\": [],\n",
    "    \"tissue_x_max\": []\n",
    "}\n",
    "\n",
    "for name, group in df.groupby(['sample', 'flow']):\n",
    "    feature_df[\"flow\"].append(group[\"flow\"].iloc[0])\n",
    "    feature_df[\"sample\"].append(group[\"sample\"].iloc[0])\n",
    "\n",
    "    # Creating interpolation out of both functions\n",
    "    cubic_input = interp1d(group[\"midpoint\"], group[\"input\"], kind='cubic')\n",
    "    cubic_tissue = interp1d(group[\"midpoint\"], group[\"tissue\"], kind='cubic')\n",
    "    min_inter, max_inter = min(group[\"midpoint\"]), max(group[\"midpoint\"])\n",
    "\n",
    "    # Finding in which timepoint the input function reaches maximum flow value\n",
    "    results = optimize.minimize(lambda x: -cubic_input(x), x0=(100), bounds = [(min_inter + 1, max_inter - 1)])\n",
    "    feature_df[\"input_x_max\"].append(results[\"x\"][0])\n",
    "\n",
    "    # Finding in which timepoint the tissue function reaches maximum flow value\n",
    "    results = optimize.minimize(lambda x: -cubic_tissue(x), x0=(100), bounds = [(min_inter + 1, max_inter - 1)])\n",
    "    feature_df[\"tissue_x_max\"].append(results[\"x\"][0])\n",
    "\n",
    "    # Finding the integral of the tissue function\n",
    "    integral = np.trapz(group[\"tissue\"], x=group[\"midpoint\"])\n",
    "    feature_df[\"tissue_integral\"].append(integral)\n",
    "\n",
    "feature_df = pd.DataFrame(feature_df)\n",
    "df = pd.merge(df, feature_df, how=\"left\", on=[\"flow\", \"sample\"])\n",
    "df"
   ]
  },
  {
   "cell_type": "markdown",
   "metadata": {},
   "source": [
    "Now we are creating a new variable called scaled_tissue. Scaled_tissue is the value of the tissue function divided (scaled) by it's total integral."
   ]
  },
  {
   "cell_type": "code",
   "execution_count": 4,
   "metadata": {},
   "outputs": [],
   "source": [
    "df[\"scaled_tissue\"] = df[\"tissue\"] / df[\"tissue_integral\"]"
   ]
  },
  {
   "cell_type": "markdown",
   "metadata": {},
   "source": [
    "### Sampling from original dataset:\n",
    "\n",
    "In the original dataset we had issues when the readings where done in infrequent times. At the beginning the readings were taken every 5 seconds but later on the frequency was lowered to 20 seconds. We are going to fix this by sampling set amount of points in even intervals from the original curve. We are doing this by using get_interpolated_sample function that takes data that is grouped by flow and sample, then the function fits a cubic split interpolation into the data. Finally we sample set amount of points (currently 500) in even intervals from the interpolation. Variable x in the dataframe is the timepoint where we calculate the y-value from the interpolation."
   ]
  },
  {
   "cell_type": "code",
   "execution_count": 5,
   "metadata": {},
   "outputs": [
    {
     "data": {
      "text/html": [
       "<div>\n",
       "<style scoped>\n",
       "    .dataframe tbody tr th:only-of-type {\n",
       "        vertical-align: middle;\n",
       "    }\n",
       "\n",
       "    .dataframe tbody tr th {\n",
       "        vertical-align: top;\n",
       "    }\n",
       "\n",
       "    .dataframe thead th {\n",
       "        text-align: right;\n",
       "    }\n",
       "</style>\n",
       "<table border=\"1\" class=\"dataframe\">\n",
       "  <thead>\n",
       "    <tr style=\"text-align: right;\">\n",
       "      <th></th>\n",
       "      <th>x</th>\n",
       "      <th>ss_tissue</th>\n",
       "      <th>s_tissue</th>\n",
       "      <th>sample</th>\n",
       "      <th>flow</th>\n",
       "      <th>tissue_integral</th>\n",
       "      <th>input_x_max</th>\n",
       "      <th>tissue_x_max</th>\n",
       "    </tr>\n",
       "  </thead>\n",
       "  <tbody>\n",
       "    <tr>\n",
       "      <td>0</td>\n",
       "      <td>2.500000</td>\n",
       "      <td>0.000012</td>\n",
       "      <td>1267.153700</td>\n",
       "      <td>1</td>\n",
       "      <td>100</td>\n",
       "      <td>1.091706e+08</td>\n",
       "      <td>118.793711</td>\n",
       "      <td>182.669720</td>\n",
       "    </tr>\n",
       "    <tr>\n",
       "      <td>1</td>\n",
       "      <td>3.026052</td>\n",
       "      <td>0.000012</td>\n",
       "      <td>1272.243678</td>\n",
       "      <td>1</td>\n",
       "      <td>100</td>\n",
       "      <td>1.091706e+08</td>\n",
       "      <td>118.793711</td>\n",
       "      <td>182.669720</td>\n",
       "    </tr>\n",
       "    <tr>\n",
       "      <td>2</td>\n",
       "      <td>3.552104</td>\n",
       "      <td>0.000012</td>\n",
       "      <td>1277.155441</td>\n",
       "      <td>1</td>\n",
       "      <td>100</td>\n",
       "      <td>1.091706e+08</td>\n",
       "      <td>118.793711</td>\n",
       "      <td>182.669720</td>\n",
       "    </tr>\n",
       "    <tr>\n",
       "      <td>3</td>\n",
       "      <td>4.078156</td>\n",
       "      <td>0.000012</td>\n",
       "      <td>1281.909044</td>\n",
       "      <td>1</td>\n",
       "      <td>100</td>\n",
       "      <td>1.091706e+08</td>\n",
       "      <td>118.793711</td>\n",
       "      <td>182.669720</td>\n",
       "    </tr>\n",
       "    <tr>\n",
       "      <td>4</td>\n",
       "      <td>4.604208</td>\n",
       "      <td>0.000012</td>\n",
       "      <td>1286.524541</td>\n",
       "      <td>1</td>\n",
       "      <td>100</td>\n",
       "      <td>1.091706e+08</td>\n",
       "      <td>118.793711</td>\n",
       "      <td>182.669720</td>\n",
       "    </tr>\n",
       "    <tr>\n",
       "      <td>...</td>\n",
       "      <td>...</td>\n",
       "      <td>...</td>\n",
       "      <td>...</td>\n",
       "      <td>...</td>\n",
       "      <td>...</td>\n",
       "      <td>...</td>\n",
       "      <td>...</td>\n",
       "      <td>...</td>\n",
       "    </tr>\n",
       "    <tr>\n",
       "      <td>2995</td>\n",
       "      <td>262.895792</td>\n",
       "      <td>0.000034</td>\n",
       "      <td>1360.482562</td>\n",
       "      <td>2</td>\n",
       "      <td>300</td>\n",
       "      <td>4.000549e+07</td>\n",
       "      <td>28.483992</td>\n",
       "      <td>47.474071</td>\n",
       "    </tr>\n",
       "    <tr>\n",
       "      <td>2996</td>\n",
       "      <td>263.421844</td>\n",
       "      <td>0.000034</td>\n",
       "      <td>1357.702401</td>\n",
       "      <td>2</td>\n",
       "      <td>300</td>\n",
       "      <td>4.000549e+07</td>\n",
       "      <td>28.483992</td>\n",
       "      <td>47.474071</td>\n",
       "    </tr>\n",
       "    <tr>\n",
       "      <td>2997</td>\n",
       "      <td>263.947896</td>\n",
       "      <td>0.000034</td>\n",
       "      <td>1354.824264</td>\n",
       "      <td>2</td>\n",
       "      <td>300</td>\n",
       "      <td>4.000549e+07</td>\n",
       "      <td>28.483992</td>\n",
       "      <td>47.474071</td>\n",
       "    </tr>\n",
       "    <tr>\n",
       "      <td>2998</td>\n",
       "      <td>264.473948</td>\n",
       "      <td>0.000034</td>\n",
       "      <td>1351.845891</td>\n",
       "      <td>2</td>\n",
       "      <td>300</td>\n",
       "      <td>4.000549e+07</td>\n",
       "      <td>28.483992</td>\n",
       "      <td>47.474071</td>\n",
       "    </tr>\n",
       "    <tr>\n",
       "      <td>2999</td>\n",
       "      <td>265.000000</td>\n",
       "      <td>0.000034</td>\n",
       "      <td>1348.765020</td>\n",
       "      <td>2</td>\n",
       "      <td>300</td>\n",
       "      <td>4.000549e+07</td>\n",
       "      <td>28.483992</td>\n",
       "      <td>47.474071</td>\n",
       "    </tr>\n",
       "  </tbody>\n",
       "</table>\n",
       "<p>3000 rows × 8 columns</p>\n",
       "</div>"
      ],
      "text/plain": [
       "               x  ss_tissue     s_tissue  sample  flow  tissue_integral  \\\n",
       "0       2.500000   0.000012  1267.153700       1   100     1.091706e+08   \n",
       "1       3.026052   0.000012  1272.243678       1   100     1.091706e+08   \n",
       "2       3.552104   0.000012  1277.155441       1   100     1.091706e+08   \n",
       "3       4.078156   0.000012  1281.909044       1   100     1.091706e+08   \n",
       "4       4.604208   0.000012  1286.524541       1   100     1.091706e+08   \n",
       "...          ...        ...          ...     ...   ...              ...   \n",
       "2995  262.895792   0.000034  1360.482562       2   300     4.000549e+07   \n",
       "2996  263.421844   0.000034  1357.702401       2   300     4.000549e+07   \n",
       "2997  263.947896   0.000034  1354.824264       2   300     4.000549e+07   \n",
       "2998  264.473948   0.000034  1351.845891       2   300     4.000549e+07   \n",
       "2999  265.000000   0.000034  1348.765020       2   300     4.000549e+07   \n",
       "\n",
       "      input_x_max  tissue_x_max  \n",
       "0      118.793711    182.669720  \n",
       "1      118.793711    182.669720  \n",
       "2      118.793711    182.669720  \n",
       "3      118.793711    182.669720  \n",
       "4      118.793711    182.669720  \n",
       "...           ...           ...  \n",
       "2995    28.483992     47.474071  \n",
       "2996    28.483992     47.474071  \n",
       "2997    28.483992     47.474071  \n",
       "2998    28.483992     47.474071  \n",
       "2999    28.483992     47.474071  \n",
       "\n",
       "[3000 rows x 8 columns]"
      ]
     },
     "execution_count": 5,
     "metadata": {},
     "output_type": "execute_result"
    }
   ],
   "source": [
    "sampled_dict = {\n",
    "    \"x\": [],\n",
    "    \"ss_tissue\": [],\n",
    "    \"s_tissue\": [],\n",
    "    \"sample\": [],\n",
    "    \"flow\": []\n",
    "}\n",
    "\n",
    "num_samples = 500\n",
    "for name, group in df.groupby(['sample', 'flow']):\n",
    "    results = get_interpolated_sample(\n",
    "        min(df[\"midpoint\"]),\n",
    "        max(df[\"midpoint\"]),\n",
    "        group, \n",
    "        num_samples, \n",
    "        [\"scaled_tissue\", \"tissue\"], \n",
    "        \"midpoint\"\n",
    "    )\n",
    "    sampled_dict[\"x\"].append(results[0])\n",
    "    sampled_dict[\"ss_tissue\"].append(results[1][0])\n",
    "    sampled_dict[\"s_tissue\"].append(results[1][1])\n",
    "    sampled_dict[\"sample\"].append(np.repeat(group[\"sample\"].iloc[0], num_samples))\n",
    "    sampled_dict[\"flow\"].append(np.repeat(group[\"flow\"].iloc[0], num_samples))\n",
    "\n",
    "open_list = lambda x: [item for sublist in x for item in sublist]\n",
    "\n",
    "for key in sampled_dict.keys():\n",
    "    sampled_dict[key] = open_list(sampled_dict[key])\n",
    "\n",
    "sampled_df = pd.DataFrame(sampled_dict)\n",
    "sampled_df = pd.merge(sampled_df, feature_df, how=\"inner\", on=[\"sample\", \"flow\"])\n",
    "sampled_df\n"
   ]
  },
  {
   "cell_type": "markdown",
   "metadata": {},
   "source": []
  },
  {
   "cell_type": "code",
   "execution_count": 6,
   "metadata": {},
   "outputs": [],
   "source": [
    "sampled_df[\"error_weigth\"] = np.where(((sampled_df[\"x\"] < sampled_df[\"tissue_x_max\"]) & (sampled_df[\"flow\"] == 100) & (sampled_df[\"sample\"] == 1)), 1,  2000)\n",
    "sampled_df[\"error_weight\"] = 1"
   ]
  },
  {
   "cell_type": "code",
   "execution_count": 7,
   "metadata": {},
   "outputs": [
    {
     "name": "stdout",
     "output_type": "stream",
     "text": [
      "STARTING FIRST OPTIMIZE\n",
      "ENDING FIRST OPTIMIZE. PARAMS: [4.61142333e+00 4.88283098e+01 3.63182091e-02 9.55032764e-03]\n",
      "STARTING SECOND OPTIMIZE\n",
      "ENDING SECOND OPTIMIZE. PARAMS: [1042649.41717557]\n",
      "FLOW: 100, SAMPLE: 1, SIGMA: 48.82830981650109, LAMBDA: 0.03631820909729589, MU: 164.90794472510194, MU_x: 4.611423328105529\n"
     ]
    },
    {
     "data": {
      "image/png": "[encoded data removed]",
      "text/plain": [
       "<Figure size 432x288 with 1 Axes>"
      ]
     },
     "metadata": {
      "needs_background": "light"
     },
     "output_type": "display_data"
    },
    {
     "name": "stdout",
     "output_type": "stream",
     "text": [
      "STARTING FIRST OPTIMIZE\n",
      "ENDING FIRST OPTIMIZE. PARAMS: [6.32073792e+00 4.79865515e+01 1.05431027e-01 8.21328262e-03]\n",
      "STARTING SECOND OPTIMIZE\n",
      "ENDING SECOND OPTIMIZE. PARAMS: [729392.78539638]\n",
      "FLOW: 100, SAMPLE: 2, SIGMA: 47.98655151829487, LAMBDA: 0.10543102747493319, MU: 121.79411130692475, MU_x: 6.320737924198539\n"
     ]
    },
    {
     "data": {
      "image/png": "[encoded data removed]",
      "text/plain": [
       "<Figure size 432x288 with 1 Axes>"
      ]
     },
     "metadata": {
      "needs_background": "light"
     },
     "output_type": "display_data"
    },
    {
     "name": "stdout",
     "output_type": "stream",
     "text": [
      "STARTING FIRST OPTIMIZE\n",
      "ENDING FIRST OPTIMIZE. PARAMS: [3.63786126e+00 2.12256065e+01 3.94521773e-02 1.91478451e-02]\n",
      "STARTING SECOND OPTIMIZE\n",
      "ENDING SECOND OPTIMIZE. PARAMS: [1152855.04523479]\n",
      "FLOW: 200, SAMPLE: 1, SIGMA: 21.225606499018934, LAMBDA: 0.03945217732010889, MU: 65.50540710816534, MU_x: 3.63786126125207\n"
     ]
    },
    {
     "data": {
      "image/png": "[encoded data removed]",
      "text/plain": [
       "<Figure size 432x288 with 1 Axes>"
      ]
     },
     "metadata": {
      "needs_background": "light"
     },
     "output_type": "display_data"
    },
    {
     "name": "stdout",
     "output_type": "stream",
     "text": [
      "STARTING FIRST OPTIMIZE\n",
      "ENDING FIRST OPTIMIZE. PARAMS: [3.49104328e+00 2.11311321e+01 3.99568375e-02 1.92175134e-02]\n",
      "STARTING SECOND OPTIMIZE\n",
      "ENDING SECOND OPTIMIZE. PARAMS: [1189326.28211257]\n",
      "FLOW: 200, SAMPLE: 2, SIGMA: 21.13113206144381, LAMBDA: 0.03995683753077499, MU: 65.67015324625483, MU_x: 3.491043284112492\n"
     ]
    },
    {
     "data": {
      "image/png": "[encoded data removed]",
      "text/plain": [
       "<Figure size 432x288 with 1 Axes>"
      ]
     },
     "metadata": {
      "needs_background": "light"
     },
     "output_type": "display_data"
    },
    {
     "name": "stdout",
     "output_type": "stream",
     "text": [
      "STARTING FIRST OPTIMIZE\n",
      "ENDING FIRST OPTIMIZE. PARAMS: [ 2.4403604  11.19510022  0.04237529  0.03647235]\n",
      "STARTING SECOND OPTIMIZE\n",
      "ENDING SECOND OPTIMIZE. PARAMS: [1419260.06474926]\n",
      "FLOW: 300, SAMPLE: 1, SIGMA: 11.195100217307608, LAMBDA: 0.042375289853517295, MU: 36.71848459694735, MU_x: 2.4403603952906003\n"
     ]
    },
    {
     "data": {
      "image/png": "[encoded data removed]",
      "text/plain": [
       "<Figure size 432x288 with 1 Axes>"
      ]
     },
     "metadata": {
      "needs_background": "light"
     },
     "output_type": "display_data"
    },
    {
     "name": "stdout",
     "output_type": "stream",
     "text": [
      "STARTING FIRST OPTIMIZE\n",
      "ENDING FIRST OPTIMIZE. PARAMS: [ 6.36072181 18.95464537  0.25583491  0.02026827]\n",
      "STARTING SECOND OPTIMIZE\n",
      "ENDING SECOND OPTIMIZE. PARAMS: [810778.60786991]\n",
      "FLOW: 300, SAMPLE: 2, SIGMA: 18.95464537461887, LAMBDA: 0.2558349134024604, MU: 49.68639765385058, MU_x: 6.360721810206645\n"
     ]
    },
    {
     "data": {
      "image/png": "[encoded data removed]",
      "text/plain": [
       "<Figure size 432x288 with 1 Axes>"
      ]
     },
     "metadata": {
      "needs_background": "light"
     },
     "output_type": "display_data"
    },
    {
     "data": {
      "text/html": [
       "<div>\n",
       "<style scoped>\n",
       "    .dataframe tbody tr th:only-of-type {\n",
       "        vertical-align: middle;\n",
       "    }\n",
       "\n",
       "    .dataframe tbody tr th {\n",
       "        vertical-align: top;\n",
       "    }\n",
       "\n",
       "    .dataframe thead th {\n",
       "        text-align: right;\n",
       "    }\n",
       "</style>\n",
       "<table border=\"1\" class=\"dataframe\">\n",
       "  <thead>\n",
       "    <tr style=\"text-align: right;\">\n",
       "      <th></th>\n",
       "      <th>flow</th>\n",
       "      <th>sample</th>\n",
       "      <th>mu</th>\n",
       "      <th>mu_x</th>\n",
       "      <th>lambda_</th>\n",
       "      <th>sigma</th>\n",
       "      <th>h</th>\n",
       "      <th>tissue_integral</th>\n",
       "      <th>input_x_max</th>\n",
       "      <th>tissue_x_max</th>\n",
       "    </tr>\n",
       "  </thead>\n",
       "  <tbody>\n",
       "    <tr>\n",
       "      <td>0</td>\n",
       "      <td>100</td>\n",
       "      <td>1</td>\n",
       "      <td>164.907945</td>\n",
       "      <td>4.611423</td>\n",
       "      <td>0.036318</td>\n",
       "      <td>48.828310</td>\n",
       "      <td>1.042649e+06</td>\n",
       "      <td>1.091706e+08</td>\n",
       "      <td>118.793711</td>\n",
       "      <td>182.669720</td>\n",
       "    </tr>\n",
       "    <tr>\n",
       "      <td>1</td>\n",
       "      <td>100</td>\n",
       "      <td>2</td>\n",
       "      <td>121.794111</td>\n",
       "      <td>6.320738</td>\n",
       "      <td>0.105431</td>\n",
       "      <td>47.986552</td>\n",
       "      <td>7.293928e+05</td>\n",
       "      <td>8.881070e+07</td>\n",
       "      <td>58.586732</td>\n",
       "      <td>123.186942</td>\n",
       "    </tr>\n",
       "    <tr>\n",
       "      <td>2</td>\n",
       "      <td>200</td>\n",
       "      <td>1</td>\n",
       "      <td>65.505407</td>\n",
       "      <td>3.637861</td>\n",
       "      <td>0.039452</td>\n",
       "      <td>21.225606</td>\n",
       "      <td>1.152855e+06</td>\n",
       "      <td>6.020789e+07</td>\n",
       "      <td>47.316101</td>\n",
       "      <td>78.880157</td>\n",
       "    </tr>\n",
       "    <tr>\n",
       "      <td>3</td>\n",
       "      <td>200</td>\n",
       "      <td>2</td>\n",
       "      <td>65.670153</td>\n",
       "      <td>3.491043</td>\n",
       "      <td>0.039957</td>\n",
       "      <td>21.131132</td>\n",
       "      <td>1.189326e+06</td>\n",
       "      <td>6.188868e+07</td>\n",
       "      <td>48.214937</td>\n",
       "      <td>78.895128</td>\n",
       "    </tr>\n",
       "    <tr>\n",
       "      <td>4</td>\n",
       "      <td>300</td>\n",
       "      <td>1</td>\n",
       "      <td>36.718485</td>\n",
       "      <td>2.440360</td>\n",
       "      <td>0.042375</td>\n",
       "      <td>11.195100</td>\n",
       "      <td>1.419260e+06</td>\n",
       "      <td>3.891364e+07</td>\n",
       "      <td>28.583950</td>\n",
       "      <td>47.416007</td>\n",
       "    </tr>\n",
       "    <tr>\n",
       "      <td>5</td>\n",
       "      <td>300</td>\n",
       "      <td>2</td>\n",
       "      <td>49.686398</td>\n",
       "      <td>6.360722</td>\n",
       "      <td>0.255835</td>\n",
       "      <td>18.954645</td>\n",
       "      <td>8.107786e+05</td>\n",
       "      <td>4.000549e+07</td>\n",
       "      <td>28.483992</td>\n",
       "      <td>47.474071</td>\n",
       "    </tr>\n",
       "  </tbody>\n",
       "</table>\n",
       "</div>"
      ],
      "text/plain": [
       "   flow  sample          mu      mu_x   lambda_      sigma             h  \\\n",
       "0   100       1  164.907945  4.611423  0.036318  48.828310  1.042649e+06   \n",
       "1   100       2  121.794111  6.320738  0.105431  47.986552  7.293928e+05   \n",
       "2   200       1   65.505407  3.637861  0.039452  21.225606  1.152855e+06   \n",
       "3   200       2   65.670153  3.491043  0.039957  21.131132  1.189326e+06   \n",
       "4   300       1   36.718485  2.440360  0.042375  11.195100  1.419260e+06   \n",
       "5   300       2   49.686398  6.360722  0.255835  18.954645  8.107786e+05   \n",
       "\n",
       "   tissue_integral  input_x_max  tissue_x_max  \n",
       "0     1.091706e+08   118.793711    182.669720  \n",
       "1     8.881070e+07    58.586732    123.186942  \n",
       "2     6.020789e+07    47.316101     78.880157  \n",
       "3     6.188868e+07    48.214937     78.895128  \n",
       "4     3.891364e+07    28.583950     47.416007  \n",
       "5     4.000549e+07    28.483992     47.474071  "
      ]
     },
     "execution_count": 7,
     "metadata": {},
     "output_type": "execute_result"
    }
   ],
   "source": [
    "groups = sampled_df.groupby([\"flow\", \"sample\"]) # NON PARAMETRIC\n",
    "\n",
    "results_dict = {\n",
    "    \"flow\": [],\n",
    "    \"sample\": [],\n",
    "    \"mu\": [],\n",
    "    \"mu_x\": [],\n",
    "    \"lambda_\": [],\n",
    "    \"sigma\": [],\n",
    "    \"h\": []\n",
    "}\n",
    "\n",
    "alkuarvaukset = [\n",
    "        [6.325, 20, 0.05], # Muiden alkuarvaus\n",
    "        [6.325, 48, 0.022], # 300, 2\n",
    "        [4.6, 48.84, 0.027] # 300, 1\n",
    "    ]\n",
    "for i, group in groups:\n",
    "    if i[0] == 100:\n",
    "        if i[1] == 1:\n",
    "            alkuarvaus = alkuarvaukset[2]\n",
    "        else:\n",
    "            alkuarvaus = alkuarvaukset[1]\n",
    "    else:\n",
    "        alkuarvaus = alkuarvaukset[0]\n",
    "    mu_x_alkuarvaus, sigma_alkuarvaus, lambda_alkuarvaus = alkuarvaus\n",
    "\n",
    "    bounds = [(None, None), (1e-5, None), (1e-5, None), (None, None)]\n",
    "\n",
    "    x_0 = [mu_x_alkuarvaus, sigma_alkuarvaus, lambda_alkuarvaus, 1]\n",
    "    print(\"STARTING FIRST OPTIMIZE\")\n",
    "    # SOVITTAA NORMALISOITUUN KÄYRÄÄN PARAMETRIT\n",
    "    res1 = scipy.optimize.minimize(EMG_loss, args=group, x0=x_0, bounds=bounds)\n",
    "    print(f\"ENDING FIRST OPTIMIZE. PARAMS: {res1['x']}\")\n",
    "    #res = scipy.optimize.differential_evolution(EMG_loss, bounds=bounds, args=[group])\n",
    "    x_range = np.linspace(0, 300, 900)\n",
    "    mu = (group[\"input_x_max\"] + res1[\"x\"][0] * 1000 / group[\"flow\"]).iloc[0]\n",
    "    sigma = res1[\"x\"][1]\n",
    "    lambda_ = res1[\"x\"][2]\n",
    "\n",
    "    emg_params = {\n",
    "        \"mu_x\": res1[\"x\"][0],\n",
    "        \"sigma\": sigma,\n",
    "        \"lambda_\": lambda_\n",
    "    }\n",
    "\n",
    "    print(\"STARTING SECOND OPTIMIZE\")\n",
    "    # SOVITTAA KORKEUSPARAMETRIN NIIN ETTÄ SE NORMALISOIMATON MÄTSÄÄ OIKEAAN\n",
    "    res2 = scipy.optimize.minimize(EMG_loss_h, args=(group, emg_params), x0=[80000])\n",
    "    print(f\"ENDING SECOND OPTIMIZE. PARAMS: {res2['x']}\")\n",
    "\n",
    "    h = res2[\"x\"][0]\n",
    "\n",
    "\n",
    "    pred_y = EMG(x_range, mu, sigma, lambda_, h)\n",
    "    plt.plot(x_range, pred_y, color=\"b\")\n",
    "    plt.plot(group[\"x\"], group[\"s_tissue\"], color=\"r\")\n",
    "    print(f'FLOW: {group[\"flow\"].iloc[0]}, SAMPLE: {group[\"sample\"].iloc[0]}, SIGMA: {sigma}, LAMBDA: {lambda_}, MU: {mu}, MU_x: {res1[\"x\"][0]}')\n",
    "    plt.show()\n",
    "    results_dict[\"flow\"].append(group[\"flow\"].iloc[0])\n",
    "    results_dict[\"sample\"].append(group[\"sample\"].iloc[0])\n",
    "    results_dict[\"mu\"].append(mu)\n",
    "    results_dict[\"mu_x\"].append(res1[\"x\"][0])\n",
    "    results_dict[\"sigma\"].append(sigma)\n",
    "    results_dict[\"lambda_\"].append(lambda_)\n",
    "    results_dict[\"h\"].append(h)\n",
    "\n",
    "results_df = pd.DataFrame(results_dict)\n",
    "results_df = results_df.merge(feature_df, how=\"inner\", on=[\"flow\", \"sample\"])\n",
    "results_df"
   ]
  },
  {
   "cell_type": "code",
   "execution_count": 8,
   "metadata": {},
   "outputs": [],
   "source": [
    "param_dict = {\n",
    "    \"mu_x_count\": 1,\n",
    "    \"sigma_count\": 2,\n",
    "    \"lambda_count\": 1,\n",
    "    \"h_count\": 1\n",
    "}"
   ]
  },
  {
   "cell_type": "code",
   "execution_count": 12,
   "metadata": {},
   "outputs": [
    {
     "name": "stdout",
     "output_type": "stream",
     "text": [
      "{'mu_x': 5.009794428896013, 'sigma': 48.40743066739799, 'lambda_': 0.04744616744224465, 'h': 942877.9162446093}\n"
     ]
    },
    {
     "ename": "TypeError",
     "evalue": "set_text() takes 2 positional arguments but 3 were given",
     "output_type": "error",
     "traceback": [
      "\u001b[0;31m---------------------------------------------------------------------------\u001b[0m",
      "\u001b[0;31mTypeError\u001b[0m                                 Traceback (most recent call last)",
      "\u001b[0;32m<ipython-input-12-c73e543e2954>\u001b[0m in \u001b[0;36m<module>\u001b[0;34m\u001b[0m\n\u001b[1;32m     24\u001b[0m     \u001b[0;34m\"h_count\"\u001b[0m\u001b[0;34m:\u001b[0m \u001b[0;36m1\u001b[0m\u001b[0;34m\u001b[0m\u001b[0;34m\u001b[0m\u001b[0m\n\u001b[1;32m     25\u001b[0m }\n\u001b[0;32m---> 26\u001b[0;31m \u001b[0mplot_against_predictions_all\u001b[0m\u001b[0;34m(\u001b[0m\u001b[0mresults_df\u001b[0m\u001b[0;34m,\u001b[0m \u001b[0mdf\u001b[0m\u001b[0;34m,\u001b[0m \u001b[0mparam_dict\u001b[0m\u001b[0;34m)\u001b[0m\u001b[0;34m\u001b[0m\u001b[0;34m\u001b[0m\u001b[0m\n\u001b[0m",
      "\u001b[0;32m<ipython-input-12-c73e543e2954>\u001b[0m in \u001b[0;36mplot_against_predictions_all\u001b[0;34m(results_df, df, param_dict, save)\u001b[0m\n\u001b[1;32m     11\u001b[0m         \u001b[0mmu\u001b[0m \u001b[0;34m=\u001b[0m \u001b[0;34m(\u001b[0m\u001b[0mgroup\u001b[0m\u001b[0;34m[\u001b[0m\u001b[0;34m\"input_x_max\"\u001b[0m\u001b[0;34m]\u001b[0m \u001b[0;34m+\u001b[0m \u001b[0mmodel_param_dict\u001b[0m\u001b[0;34m[\u001b[0m\u001b[0;34m\"mu_x\"\u001b[0m\u001b[0;34m]\u001b[0m \u001b[0;34m*\u001b[0m \u001b[0;36m1000\u001b[0m \u001b[0;34m/\u001b[0m \u001b[0mflow\u001b[0m\u001b[0;34m)\u001b[0m\u001b[0;34m.\u001b[0m\u001b[0miloc\u001b[0m\u001b[0;34m[\u001b[0m\u001b[0;36m0\u001b[0m\u001b[0;34m]\u001b[0m\u001b[0;34m\u001b[0m\u001b[0;34m\u001b[0m\u001b[0m\n\u001b[1;32m     12\u001b[0m         \u001b[0memg_vals\u001b[0m \u001b[0;34m=\u001b[0m \u001b[0mEMG\u001b[0m\u001b[0;34m(\u001b[0m\u001b[0mx_range\u001b[0m\u001b[0;34m,\u001b[0m \u001b[0mmu\u001b[0m\u001b[0;34m,\u001b[0m \u001b[0mmodel_param_dict\u001b[0m\u001b[0;34m[\u001b[0m\u001b[0;34m\"sigma\"\u001b[0m\u001b[0;34m]\u001b[0m\u001b[0;34m,\u001b[0m \u001b[0mmodel_param_dict\u001b[0m\u001b[0;34m[\u001b[0m\u001b[0;34m\"lambda_\"\u001b[0m\u001b[0;34m]\u001b[0m\u001b[0;34m,\u001b[0m \u001b[0mmodel_param_dict\u001b[0m\u001b[0;34m[\u001b[0m\u001b[0;34m\"h\"\u001b[0m\u001b[0;34m]\u001b[0m\u001b[0;34m)\u001b[0m\u001b[0;34m\u001b[0m\u001b[0;34m\u001b[0m\u001b[0m\n\u001b[0;32m---> 13\u001b[0;31m         \u001b[0max\u001b[0m\u001b[0;34m[\u001b[0m\u001b[0mrow\u001b[0m\u001b[0;34m,\u001b[0m \u001b[0mcolumn\u001b[0m\u001b[0;34m]\u001b[0m\u001b[0;34m.\u001b[0m\u001b[0mtitle\u001b[0m\u001b[0;34m.\u001b[0m\u001b[0mset_text\u001b[0m\u001b[0;34m(\u001b[0m\u001b[0;34mf\"Flow: {flow}, Sample: {sample}, R2: {r2}\"\u001b[0m\u001b[0;34m,\u001b[0m \u001b[0;36m4\u001b[0m\u001b[0;34m)\u001b[0m\u001b[0;34m\u001b[0m\u001b[0;34m\u001b[0m\u001b[0m\n\u001b[0m\u001b[1;32m     14\u001b[0m         \u001b[0max\u001b[0m\u001b[0;34m[\u001b[0m\u001b[0mrow\u001b[0m\u001b[0;34m,\u001b[0m \u001b[0mcolumn\u001b[0m\u001b[0;34m]\u001b[0m\u001b[0;34m.\u001b[0m\u001b[0mscatter\u001b[0m\u001b[0;34m(\u001b[0m\u001b[0mgroup\u001b[0m\u001b[0;34m[\u001b[0m\u001b[0;34m\"midpoint\"\u001b[0m\u001b[0;34m]\u001b[0m\u001b[0;34m,\u001b[0m \u001b[0mgroup\u001b[0m\u001b[0;34m[\u001b[0m\u001b[0;34m\"tissue\"\u001b[0m\u001b[0;34m]\u001b[0m\u001b[0;34m,\u001b[0m \u001b[0mcolor\u001b[0m\u001b[0;34m=\u001b[0m\u001b[0;34m\"r\"\u001b[0m\u001b[0;34m)\u001b[0m\u001b[0;34m\u001b[0m\u001b[0;34m\u001b[0m\u001b[0m\n\u001b[1;32m     15\u001b[0m         \u001b[0max\u001b[0m\u001b[0;34m[\u001b[0m\u001b[0mrow\u001b[0m\u001b[0;34m,\u001b[0m \u001b[0mcolumn\u001b[0m\u001b[0;34m]\u001b[0m\u001b[0;34m.\u001b[0m\u001b[0mplot\u001b[0m\u001b[0;34m(\u001b[0m\u001b[0mx_range\u001b[0m\u001b[0;34m,\u001b[0m \u001b[0memg_vals\u001b[0m\u001b[0;34m,\u001b[0m \u001b[0mcolor\u001b[0m\u001b[0;34m=\u001b[0m\u001b[0;34m\"b\"\u001b[0m\u001b[0;34m)\u001b[0m\u001b[0;34m\u001b[0m\u001b[0;34m\u001b[0m\u001b[0m\n",
      "\u001b[0;31mTypeError\u001b[0m: set_text() takes 2 positional arguments but 3 were given"
     ]
    },
    {
     "data": {
      "image/png": "[encoded data removed]",
      "text/plain": [
       "<Figure size 1080x720 with 6 Axes>"
      ]
     },
     "metadata": {},
     "output_type": "display_data"
    }
   ],
   "source": [
    "def plot_against_predictions_all(results_df, df, param_dict, save=False):\n",
    "    x_range = np.linspace(0, 350, 700)\n",
    "    plt.style.use('fivethirtyeight')\n",
    "    fig, ax = plt.subplots(2, 3, figsize=(15, 10), sharex=True, sharey=True, num=\"bmh\")\n",
    "    for i, group in df.groupby([\"flow\", \"sample\"]):\n",
    "        flow, sample = i\n",
    "        row, column = sample - 1, int(flow / 100 - 1)\n",
    "        model_param_dict = get_model_params(flow=flow, results_df = results_df, parameter_dict=param_dict)\n",
    "        r2 = get_r2(group, [model_param_dict[\"mu_x\"], model_param_dict[\"sigma\"], model_param_dict[\"lambda_\"], model_param_dict[\"h\"]])\n",
    "        r2 = str(round(r2, 2))\n",
    "        mu = (group[\"input_x_max\"] + model_param_dict[\"mu_x\"] * 1000 / flow).iloc[0]\n",
    "        emg_vals = EMG(x_range, mu, model_param_dict[\"sigma\"], model_param_dict[\"lambda_\"], model_param_dict[\"h\"])\n",
    "        ax[row, column].title.set_text(f\"Flow: {flow}, Sample: {sample}, R2: {r2}\", 4)\n",
    "        ax[row, column].scatter(group[\"midpoint\"], group[\"tissue\"], color=\"r\")\n",
    "        ax[row, column].plot(x_range, emg_vals, color=\"b\")\n",
    "    if save:\n",
    "        fig.savefig(\"all_predictions.jpg\")\n",
    "    plt.style.use(\"default\")\n",
    "\n",
    "param_dict = {\n",
    "    \"mu_x_count\": 1,\n",
    "    \"sigma_count\": 2,\n",
    "    \"lambda_count\": 1,\n",
    "    \"h_count\": 1\n",
    "}\n",
    "plot_against_predictions_all(results_df, df, param_dict)"
   ]
  },
  {
   "cell_type": "code",
   "execution_count": null,
   "metadata": {},
   "outputs": [
    {
     "data": {
      "image/png": "[encoded data removed]",
      "text/plain": [
       "<Figure size 1080x864 with 4 Axes>"
      ]
     },
     "metadata": {},
     "output_type": "display_data"
    }
   ],
   "source": [
    "parameter_dict = {\n",
    "    \"sigma_count\": 2,\n",
    "    \"lambda_count\": 1,\n",
    "    \"mu_x_count\": 1,\n",
    "    \"h_count\": 1\n",
    "}\n",
    "plot_all_params(results_df, param_dict)"
   ]
  },
  {
   "cell_type": "code",
   "execution_count": null,
   "metadata": {},
   "outputs": [
    {
     "data": {
      "text/plain": [
       "<matplotlib.collections.PathCollection at 0x1c9719e23a0>"
      ]
     },
     "execution_count": 14,
     "metadata": {},
     "output_type": "execute_result"
    },
    {
     "data": {
      "image/png": "[encoded data removed]",
      "text/plain": [
       "<Figure size 432x288 with 1 Axes>"
      ]
     },
     "metadata": {},
     "output_type": "display_data"
    }
   ],
   "source": [
    "plt.scatter(results_df[\"flow\"], results_df[\"mu_x\"])"
   ]
  },
  {
   "cell_type": "code",
   "execution_count": null,
   "metadata": {},
   "outputs": [
    {
     "data": {
      "text/plain": [
       "<AxesSubplot:xlabel='flow', ylabel='sigma'>"
      ]
     },
     "execution_count": 15,
     "metadata": {},
     "output_type": "execute_result"
    },
    {
     "data": {
      "image/png": "[encoded data removed]",
      "text/plain": [
       "<Figure size 432x288 with 1 Axes>"
      ]
     },
     "metadata": {},
     "output_type": "display_data"
    }
   ],
   "source": [
    "results_df.plot.scatter(\"flow\", \"sigma\")"
   ]
  },
  {
   "cell_type": "code",
   "execution_count": null,
   "metadata": {},
   "outputs": [
    {
     "data": {
      "text/plain": [
       "<AxesSubplot:xlabel='flow', ylabel='lambda_'>"
      ]
     },
     "execution_count": 16,
     "metadata": {},
     "output_type": "execute_result"
    },
    {
     "data": {
      "image/png": "[encoded data removed]",
      "text/plain": [
       "<Figure size 432x288 with 1 Axes>"
      ]
     },
     "metadata": {},
     "output_type": "display_data"
    }
   ],
   "source": [
    "results_df.plot.scatter(\"flow\", \"lambda_\")"
   ]
  },
  {
   "cell_type": "code",
   "execution_count": null,
   "metadata": {},
   "outputs": [],
   "source": []
  },
  {
   "cell_type": "code",
   "execution_count": null,
   "metadata": {},
   "outputs": [
    {
     "data": {
      "text/plain": [
       "<matplotlib.collections.PathCollection at 0x1c96d06be20>"
      ]
     },
     "execution_count": 17,
     "metadata": {},
     "output_type": "execute_result"
    },
    {
     "data": {
      "image/png": "[encoded data removed]",
      "text/plain": [
       "<Figure size 432x288 with 1 Axes>"
      ]
     },
     "metadata": {},
     "output_type": "display_data"
    }
   ],
   "source": [
    "plt.scatter(np.log(results_df[\"input_integral\"]), results_df[\"h\"])"
   ]
  },
  {
   "cell_type": "code",
   "execution_count": null,
   "metadata": {},
   "outputs": [
    {
     "ename": "NameError",
     "evalue": "name 'fit_polynomial' is not defined",
     "output_type": "error",
     "traceback": [
      "\u001b[1;31m---------------------------------------------------------------------------\u001b[0m",
      "\u001b[1;31mNameError\u001b[0m                                 Traceback (most recent call last)",
      "\u001b[1;32m<ipython-input-18-143df628c70b>\u001b[0m in \u001b[0;36m<module>\u001b[1;34m\u001b[0m\n\u001b[1;32m----> 1\u001b[1;33m \u001b[0mfit_polynomial\u001b[0m\u001b[1;33m(\u001b[0m\u001b[1;34m\"flow\"\u001b[0m\u001b[1;33m,\u001b[0m \u001b[1;34m\"h\"\u001b[0m\u001b[1;33m)\u001b[0m\u001b[1;33m\u001b[0m\u001b[1;33m\u001b[0m\u001b[0m\n\u001b[0m\u001b[0;32m      2\u001b[0m \u001b[0mplt\u001b[0m\u001b[1;33m.\u001b[0m\u001b[0mplot\u001b[0m\u001b[1;33m(\u001b[0m\u001b[0mx_range\u001b[0m\u001b[1;33m,\u001b[0m \u001b[0my_s\u001b[0m\u001b[1;33m)\u001b[0m\u001b[1;33m\u001b[0m\u001b[1;33m\u001b[0m\u001b[0m\n",
      "\u001b[1;31mNameError\u001b[0m: name 'fit_polynomial' is not defined"
     ]
    }
   ],
   "source": []
  },
  {
   "cell_type": "code",
   "execution_count": null,
   "metadata": {},
   "outputs": [
    {
     "ename": "NameError",
     "evalue": "name 'fit_2d_poly' is not defined",
     "output_type": "error",
     "traceback": [
      "\u001b[1;31m---------------------------------------------------------------------------\u001b[0m",
      "\u001b[1;31mNameError\u001b[0m                                 Traceback (most recent call last)",
      "\u001b[1;32m<ipython-input-50-084b141ead8c>\u001b[0m in \u001b[0;36m<module>\u001b[1;34m\u001b[0m\n\u001b[0;32m      1\u001b[0m \u001b[0mx_range\u001b[0m \u001b[1;33m=\u001b[0m \u001b[0mnp\u001b[0m\u001b[1;33m.\u001b[0m\u001b[0mlinspace\u001b[0m\u001b[1;33m(\u001b[0m\u001b[1;36m50\u001b[0m\u001b[1;33m,\u001b[0m \u001b[1;36m350\u001b[0m\u001b[1;33m)\u001b[0m\u001b[1;33m\u001b[0m\u001b[1;33m\u001b[0m\u001b[0m\n\u001b[1;32m----> 2\u001b[1;33m \u001b[0my_s\u001b[0m \u001b[1;33m=\u001b[0m \u001b[0mfit_2d_poly\u001b[0m\u001b[1;33m(\u001b[0m\u001b[0mresults_df\u001b[0m\u001b[1;33m[\u001b[0m\u001b[1;34m\"flow\"\u001b[0m\u001b[1;33m]\u001b[0m\u001b[1;33m,\u001b[0m \u001b[0mresults_df\u001b[0m\u001b[1;33m[\u001b[0m\u001b[1;34m\"h\"\u001b[0m\u001b[1;33m]\u001b[0m\u001b[1;33m,\u001b[0m \u001b[0mx_range\u001b[0m\u001b[1;33m)\u001b[0m\u001b[1;33m\u001b[0m\u001b[1;33m\u001b[0m\u001b[0m\n\u001b[0m",
      "\u001b[1;31mNameError\u001b[0m: name 'fit_2d_poly' is not defined"
     ]
    }
   ],
   "source": []
  },
  {
   "cell_type": "code",
   "execution_count": null,
   "metadata": {},
   "outputs": [],
   "source": []
  },
  {
   "cell_type": "markdown",
   "metadata": {},
   "source": [
    "y = exp(x * lambda_ + mu)\n",
    "\n",
    "mu_x = 500 - 100 * flow\n",
    "\n",
    "lambda = 0.038 + 0.02 * flow\n",
    "\n",
    "mu = (input_x_max + mu_x * 100) / flow"
   ]
  },
  {
   "cell_type": "code",
   "execution_count": null,
   "metadata": {},
   "outputs": [
    {
     "name": "stdout",
     "output_type": "stream",
     "text": [
      "   flow  sample         mu      mu_x   lambda_      sigma             h  \\\n",
      "5   300       2  36.609103  2.437533  0.041927  11.267589  1.449293e+06   \n",
      "\n",
      "      tissue_max  tissue_x_max  input_integral  tissue_integral     input_max  \\\n",
      "5  800428.816009     47.474071    5.337498e+07     4.000549e+07  2.401110e+06   \n",
      "\n",
      "   input_x_max            std  skewness           mean  peak_time_difference  \n",
      "5    28.483992  305452.965103  0.540881  282056.386815             18.990079  \n"
     ]
    }
   ],
   "source": [
    "selected = get_selected_df(results_df, 300, 2)\n",
    "print(selected)"
   ]
  },
  {
   "cell_type": "code",
   "execution_count": null,
   "metadata": {},
   "outputs": [
    {
     "data": {
      "text/plain": [
       "(2.4389628846735034,\n",
       " 11.231242908323306,\n",
       " 0.042150857517905024,\n",
       " 1417588.178784034)"
      ]
     },
     "execution_count": 15,
     "metadata": {},
     "output_type": "execute_result"
    }
   ],
   "source": []
  },
  {
   "cell_type": "code",
   "execution_count": null,
   "metadata": {},
   "outputs": [
    {
     "data": {
      "image/png": "[encoded data removed]",
      "text/plain": [
       "<Figure size 432x288 with 1 Axes>"
      ]
     },
     "metadata": {
      "needs_background": "light"
     },
     "output_type": "display_data"
    },
    {
     "data": {
      "image/png": "[encoded data removed]",
      "text/plain": [
       "<Figure size 432x288 with 1 Axes>"
      ]
     },
     "metadata": {
      "needs_background": "light"
     },
     "output_type": "display_data"
    },
    {
     "data": {
      "image/png": "[encoded data removed]",
      "text/plain": [
       "<Figure size 432x288 with 1 Axes>"
      ]
     },
     "metadata": {
      "needs_background": "light"
     },
     "output_type": "display_data"
    },
    {
     "data": {
      "image/png": "[encoded data removed]",
      "text/plain": [
       "<Figure size 432x288 with 1 Axes>"
      ]
     },
     "metadata": {
      "needs_background": "light"
     },
     "output_type": "display_data"
    },
    {
     "data": {
      "image/png": "[encoded data removed]",
      "text/plain": [
       "<Figure size 432x288 with 1 Axes>"
      ]
     },
     "metadata": {
      "needs_background": "light"
     },
     "output_type": "display_data"
    },
    {
     "data": {
      "image/png": "[encoded data removed]",
      "text/plain": [
       "<Figure size 432x288 with 1 Axes>"
      ]
     },
     "metadata": {
      "needs_background": "light"
     },
     "output_type": "display_data"
    }
   ],
   "source": []
  },
  {
   "cell_type": "code",
   "execution_count": null,
   "metadata": {},
   "outputs": [
    {
     "data": {
      "text/html": [
       "<div>\n",
       "<style scoped>\n",
       "    .dataframe tbody tr th:only-of-type {\n",
       "        vertical-align: middle;\n",
       "    }\n",
       "\n",
       "    .dataframe tbody tr th {\n",
       "        vertical-align: top;\n",
       "    }\n",
       "\n",
       "    .dataframe thead th {\n",
       "        text-align: right;\n",
       "    }\n",
       "</style>\n",
       "<table border=\"1\" class=\"dataframe\">\n",
       "  <thead>\n",
       "    <tr style=\"text-align: right;\">\n",
       "      <th></th>\n",
       "      <th>ss_tissue</th>\n",
       "      <th>s_tissue</th>\n",
       "      <th>x</th>\n",
       "      <th>flow</th>\n",
       "      <th>sample</th>\n",
       "      <th>tissue_max</th>\n",
       "      <th>tissue_x_max</th>\n",
       "      <th>input_integral</th>\n",
       "      <th>tissue_integral</th>\n",
       "      <th>input_max</th>\n",
       "      <th>input_x_max</th>\n",
       "      <th>std</th>\n",
       "      <th>skewness</th>\n",
       "      <th>mean</th>\n",
       "      <th>peak_time_difference</th>\n",
       "    </tr>\n",
       "  </thead>\n",
       "  <tbody>\n",
       "    <tr>\n",
       "      <td>0</td>\n",
       "      <td>0.000012</td>\n",
       "      <td>1267.153700</td>\n",
       "      <td>2.500000</td>\n",
       "      <td>100</td>\n",
       "      <td>1</td>\n",
       "      <td>932660.007290</td>\n",
       "      <td>182.669720</td>\n",
       "      <td>1.608301e+08</td>\n",
       "      <td>1.091706e+08</td>\n",
       "      <td>2.305769e+06</td>\n",
       "      <td>118.793711</td>\n",
       "      <td>309106.389210</td>\n",
       "      <td>1.395397</td>\n",
       "      <td>184164.407288</td>\n",
       "      <td>63.876009</td>\n",
       "    </tr>\n",
       "    <tr>\n",
       "      <td>1</td>\n",
       "      <td>0.000012</td>\n",
       "      <td>1267.412249</td>\n",
       "      <td>2.526253</td>\n",
       "      <td>100</td>\n",
       "      <td>1</td>\n",
       "      <td>932660.007290</td>\n",
       "      <td>182.669720</td>\n",
       "      <td>1.608301e+08</td>\n",
       "      <td>1.091706e+08</td>\n",
       "      <td>2.305769e+06</td>\n",
       "      <td>118.793711</td>\n",
       "      <td>309106.389210</td>\n",
       "      <td>1.395397</td>\n",
       "      <td>184164.407288</td>\n",
       "      <td>63.876009</td>\n",
       "    </tr>\n",
       "    <tr>\n",
       "      <td>2</td>\n",
       "      <td>0.000012</td>\n",
       "      <td>1267.670307</td>\n",
       "      <td>2.552505</td>\n",
       "      <td>100</td>\n",
       "      <td>1</td>\n",
       "      <td>932660.007290</td>\n",
       "      <td>182.669720</td>\n",
       "      <td>1.608301e+08</td>\n",
       "      <td>1.091706e+08</td>\n",
       "      <td>2.305769e+06</td>\n",
       "      <td>118.793711</td>\n",
       "      <td>309106.389210</td>\n",
       "      <td>1.395397</td>\n",
       "      <td>184164.407288</td>\n",
       "      <td>63.876009</td>\n",
       "    </tr>\n",
       "    <tr>\n",
       "      <td>3</td>\n",
       "      <td>0.000012</td>\n",
       "      <td>1267.927877</td>\n",
       "      <td>2.578758</td>\n",
       "      <td>100</td>\n",
       "      <td>1</td>\n",
       "      <td>932660.007290</td>\n",
       "      <td>182.669720</td>\n",
       "      <td>1.608301e+08</td>\n",
       "      <td>1.091706e+08</td>\n",
       "      <td>2.305769e+06</td>\n",
       "      <td>118.793711</td>\n",
       "      <td>309106.389210</td>\n",
       "      <td>1.395397</td>\n",
       "      <td>184164.407288</td>\n",
       "      <td>63.876009</td>\n",
       "    </tr>\n",
       "    <tr>\n",
       "      <td>4</td>\n",
       "      <td>0.000012</td>\n",
       "      <td>1268.184960</td>\n",
       "      <td>2.605011</td>\n",
       "      <td>100</td>\n",
       "      <td>1</td>\n",
       "      <td>932660.007290</td>\n",
       "      <td>182.669720</td>\n",
       "      <td>1.608301e+08</td>\n",
       "      <td>1.091706e+08</td>\n",
       "      <td>2.305769e+06</td>\n",
       "      <td>118.793711</td>\n",
       "      <td>309106.389210</td>\n",
       "      <td>1.395397</td>\n",
       "      <td>184164.407288</td>\n",
       "      <td>63.876009</td>\n",
       "    </tr>\n",
       "    <tr>\n",
       "      <td>...</td>\n",
       "      <td>...</td>\n",
       "      <td>...</td>\n",
       "      <td>...</td>\n",
       "      <td>...</td>\n",
       "      <td>...</td>\n",
       "      <td>...</td>\n",
       "      <td>...</td>\n",
       "      <td>...</td>\n",
       "      <td>...</td>\n",
       "      <td>...</td>\n",
       "      <td>...</td>\n",
       "      <td>...</td>\n",
       "      <td>...</td>\n",
       "      <td>...</td>\n",
       "      <td>...</td>\n",
       "    </tr>\n",
       "    <tr>\n",
       "      <td>59995</td>\n",
       "      <td>0.000034</td>\n",
       "      <td>1349.388320</td>\n",
       "      <td>264.894989</td>\n",
       "      <td>300</td>\n",
       "      <td>2</td>\n",
       "      <td>800428.816009</td>\n",
       "      <td>47.474071</td>\n",
       "      <td>5.337498e+07</td>\n",
       "      <td>4.000549e+07</td>\n",
       "      <td>2.401110e+06</td>\n",
       "      <td>28.483992</td>\n",
       "      <td>305452.965103</td>\n",
       "      <td>0.540881</td>\n",
       "      <td>282056.386815</td>\n",
       "      <td>18.990079</td>\n",
       "    </tr>\n",
       "    <tr>\n",
       "      <td>59996</td>\n",
       "      <td>0.000034</td>\n",
       "      <td>1349.232885</td>\n",
       "      <td>264.921242</td>\n",
       "      <td>300</td>\n",
       "      <td>2</td>\n",
       "      <td>800428.816009</td>\n",
       "      <td>47.474071</td>\n",
       "      <td>5.337498e+07</td>\n",
       "      <td>4.000549e+07</td>\n",
       "      <td>2.401110e+06</td>\n",
       "      <td>28.483992</td>\n",
       "      <td>305452.965103</td>\n",
       "      <td>0.540881</td>\n",
       "      <td>282056.386815</td>\n",
       "      <td>18.990079</td>\n",
       "    </tr>\n",
       "    <tr>\n",
       "      <td>59997</td>\n",
       "      <td>0.000034</td>\n",
       "      <td>1349.077191</td>\n",
       "      <td>264.947495</td>\n",
       "      <td>300</td>\n",
       "      <td>2</td>\n",
       "      <td>800428.816009</td>\n",
       "      <td>47.474071</td>\n",
       "      <td>5.337498e+07</td>\n",
       "      <td>4.000549e+07</td>\n",
       "      <td>2.401110e+06</td>\n",
       "      <td>28.483992</td>\n",
       "      <td>305452.965103</td>\n",
       "      <td>0.540881</td>\n",
       "      <td>282056.386815</td>\n",
       "      <td>18.990079</td>\n",
       "    </tr>\n",
       "    <tr>\n",
       "      <td>59998</td>\n",
       "      <td>0.000034</td>\n",
       "      <td>1348.921236</td>\n",
       "      <td>264.973747</td>\n",
       "      <td>300</td>\n",
       "      <td>2</td>\n",
       "      <td>800428.816009</td>\n",
       "      <td>47.474071</td>\n",
       "      <td>5.337498e+07</td>\n",
       "      <td>4.000549e+07</td>\n",
       "      <td>2.401110e+06</td>\n",
       "      <td>28.483992</td>\n",
       "      <td>305452.965103</td>\n",
       "      <td>0.540881</td>\n",
       "      <td>282056.386815</td>\n",
       "      <td>18.990079</td>\n",
       "    </tr>\n",
       "    <tr>\n",
       "      <td>59999</td>\n",
       "      <td>0.000034</td>\n",
       "      <td>1348.765020</td>\n",
       "      <td>265.000000</td>\n",
       "      <td>300</td>\n",
       "      <td>2</td>\n",
       "      <td>800428.816009</td>\n",
       "      <td>47.474071</td>\n",
       "      <td>5.337498e+07</td>\n",
       "      <td>4.000549e+07</td>\n",
       "      <td>2.401110e+06</td>\n",
       "      <td>28.483992</td>\n",
       "      <td>305452.965103</td>\n",
       "      <td>0.540881</td>\n",
       "      <td>282056.386815</td>\n",
       "      <td>18.990079</td>\n",
       "    </tr>\n",
       "  </tbody>\n",
       "</table>\n",
       "<p>60000 rows × 15 columns</p>\n",
       "</div>"
      ],
      "text/plain": [
       "       ss_tissue     s_tissue           x  flow  sample     tissue_max  \\\n",
       "0       0.000012  1267.153700    2.500000   100       1  932660.007290   \n",
       "1       0.000012  1267.412249    2.526253   100       1  932660.007290   \n",
       "2       0.000012  1267.670307    2.552505   100       1  932660.007290   \n",
       "3       0.000012  1267.927877    2.578758   100       1  932660.007290   \n",
       "4       0.000012  1268.184960    2.605011   100       1  932660.007290   \n",
       "...          ...          ...         ...   ...     ...            ...   \n",
       "59995   0.000034  1349.388320  264.894989   300       2  800428.816009   \n",
       "59996   0.000034  1349.232885  264.921242   300       2  800428.816009   \n",
       "59997   0.000034  1349.077191  264.947495   300       2  800428.816009   \n",
       "59998   0.000034  1348.921236  264.973747   300       2  800428.816009   \n",
       "59999   0.000034  1348.765020  265.000000   300       2  800428.816009   \n",
       "\n",
       "       tissue_x_max  input_integral  tissue_integral     input_max  \\\n",
       "0        182.669720    1.608301e+08     1.091706e+08  2.305769e+06   \n",
       "1        182.669720    1.608301e+08     1.091706e+08  2.305769e+06   \n",
       "2        182.669720    1.608301e+08     1.091706e+08  2.305769e+06   \n",
       "3        182.669720    1.608301e+08     1.091706e+08  2.305769e+06   \n",
       "4        182.669720    1.608301e+08     1.091706e+08  2.305769e+06   \n",
       "...             ...             ...              ...           ...   \n",
       "59995     47.474071    5.337498e+07     4.000549e+07  2.401110e+06   \n",
       "59996     47.474071    5.337498e+07     4.000549e+07  2.401110e+06   \n",
       "59997     47.474071    5.337498e+07     4.000549e+07  2.401110e+06   \n",
       "59998     47.474071    5.337498e+07     4.000549e+07  2.401110e+06   \n",
       "59999     47.474071    5.337498e+07     4.000549e+07  2.401110e+06   \n",
       "\n",
       "       input_x_max            std  skewness           mean  \\\n",
       "0       118.793711  309106.389210  1.395397  184164.407288   \n",
       "1       118.793711  309106.389210  1.395397  184164.407288   \n",
       "2       118.793711  309106.389210  1.395397  184164.407288   \n",
       "3       118.793711  309106.389210  1.395397  184164.407288   \n",
       "4       118.793711  309106.389210  1.395397  184164.407288   \n",
       "...            ...            ...       ...            ...   \n",
       "59995    28.483992  305452.965103  0.540881  282056.386815   \n",
       "59996    28.483992  305452.965103  0.540881  282056.386815   \n",
       "59997    28.483992  305452.965103  0.540881  282056.386815   \n",
       "59998    28.483992  305452.965103  0.540881  282056.386815   \n",
       "59999    28.483992  305452.965103  0.540881  282056.386815   \n",
       "\n",
       "       peak_time_difference  \n",
       "0                 63.876009  \n",
       "1                 63.876009  \n",
       "2                 63.876009  \n",
       "3                 63.876009  \n",
       "4                 63.876009  \n",
       "...                     ...  \n",
       "59995             18.990079  \n",
       "59996             18.990079  \n",
       "59997             18.990079  \n",
       "59998             18.990079  \n",
       "59999             18.990079  \n",
       "\n",
       "[60000 rows x 15 columns]"
      ]
     },
     "execution_count": 17,
     "metadata": {},
     "output_type": "execute_result"
    }
   ],
   "source": [
    "sampled_df"
   ]
  },
  {
   "cell_type": "code",
   "execution_count": null,
   "metadata": {},
   "outputs": [
    {
     "data": {
      "text/plain": [
       "0    1.608301e+08\n",
       "1    1.219042e+08\n",
       "2    8.032373e+07\n",
       "3    8.260553e+07\n",
       "4    5.215457e+07\n",
       "5    5.337498e+07\n",
       "Name: input_integral, dtype: float64"
      ]
     },
     "execution_count": 18,
     "metadata": {},
     "output_type": "execute_result"
    }
   ],
   "source": [
    "results_df[\"input_integral\"]"
   ]
  },
  {
   "cell_type": "code",
   "execution_count": null,
   "metadata": {},
   "outputs": [
    {
     "data": {
      "text/html": [
       "<div>\n",
       "<style scoped>\n",
       "    .dataframe tbody tr th:only-of-type {\n",
       "        vertical-align: middle;\n",
       "    }\n",
       "\n",
       "    .dataframe tbody tr th {\n",
       "        vertical-align: top;\n",
       "    }\n",
       "\n",
       "    .dataframe thead th {\n",
       "        text-align: right;\n",
       "    }\n",
       "</style>\n",
       "<table border=\"1\" class=\"dataframe\">\n",
       "  <thead>\n",
       "    <tr style=\"text-align: right;\">\n",
       "      <th></th>\n",
       "      <th>flow</th>\n",
       "      <th>sample</th>\n",
       "      <th>mu</th>\n",
       "      <th>mu_x</th>\n",
       "      <th>lambda_</th>\n",
       "      <th>sigma</th>\n",
       "      <th>h</th>\n",
       "      <th>tissue_max</th>\n",
       "      <th>tissue_x_max</th>\n",
       "      <th>input_integral</th>\n",
       "      <th>tissue_integral</th>\n",
       "      <th>input_max</th>\n",
       "      <th>input_x_max</th>\n",
       "      <th>std</th>\n",
       "      <th>skewness</th>\n",
       "      <th>mean</th>\n",
       "      <th>peak_time_difference</th>\n",
       "    </tr>\n",
       "  </thead>\n",
       "  <tbody>\n",
       "    <tr>\n",
       "      <td>0</td>\n",
       "      <td>100</td>\n",
       "      <td>1</td>\n",
       "      <td>133.249437</td>\n",
       "      <td>1.445573</td>\n",
       "      <td>0.007161</td>\n",
       "      <td>20.784495</td>\n",
       "      <td>3.459232e+06</td>\n",
       "      <td>932660.007290</td>\n",
       "      <td>182.669720</td>\n",
       "      <td>1.608301e+08</td>\n",
       "      <td>1.091706e+08</td>\n",
       "      <td>2.305769e+06</td>\n",
       "      <td>118.793711</td>\n",
       "      <td>309106.389210</td>\n",
       "      <td>1.395397</td>\n",
       "      <td>184164.407288</td>\n",
       "      <td>63.876009</td>\n",
       "    </tr>\n",
       "    <tr>\n",
       "      <td>1</td>\n",
       "      <td>100</td>\n",
       "      <td>2</td>\n",
       "      <td>78.511753</td>\n",
       "      <td>1.992502</td>\n",
       "      <td>0.011079</td>\n",
       "      <td>20.598585</td>\n",
       "      <td>1.967882e+06</td>\n",
       "      <td>682379.493759</td>\n",
       "      <td>123.186942</td>\n",
       "      <td>1.219042e+08</td>\n",
       "      <td>8.881070e+07</td>\n",
       "      <td>1.772555e+06</td>\n",
       "      <td>58.586732</td>\n",
       "      <td>237359.182831</td>\n",
       "      <td>0.571097</td>\n",
       "      <td>242688.100938</td>\n",
       "      <td>64.600210</td>\n",
       "    </tr>\n",
       "    <tr>\n",
       "      <td>2</td>\n",
       "      <td>200</td>\n",
       "      <td>1</td>\n",
       "      <td>62.781911</td>\n",
       "      <td>3.093162</td>\n",
       "      <td>0.032624</td>\n",
       "      <td>18.163393</td>\n",
       "      <td>1.354485e+06</td>\n",
       "      <td>833308.431967</td>\n",
       "      <td>78.880157</td>\n",
       "      <td>8.032373e+07</td>\n",
       "      <td>6.020789e+07</td>\n",
       "      <td>2.323809e+06</td>\n",
       "      <td>47.316101</td>\n",
       "      <td>310345.925135</td>\n",
       "      <td>0.689358</td>\n",
       "      <td>268301.277536</td>\n",
       "      <td>31.564057</td>\n",
       "    </tr>\n",
       "    <tr>\n",
       "      <td>3</td>\n",
       "      <td>200</td>\n",
       "      <td>2</td>\n",
       "      <td>66.065430</td>\n",
       "      <td>3.570099</td>\n",
       "      <td>0.041064</td>\n",
       "      <td>21.464332</td>\n",
       "      <td>1.169426e+06</td>\n",
       "      <td>862367.856082</td>\n",
       "      <td>78.895128</td>\n",
       "      <td>8.260553e+07</td>\n",
       "      <td>6.188868e+07</td>\n",
       "      <td>2.476852e+06</td>\n",
       "      <td>48.214937</td>\n",
       "      <td>320526.422085</td>\n",
       "      <td>0.701743</td>\n",
       "      <td>276009.680701</td>\n",
       "      <td>30.680192</td>\n",
       "    </tr>\n",
       "    <tr>\n",
       "      <td>4</td>\n",
       "      <td>300</td>\n",
       "      <td>1</td>\n",
       "      <td>36.718591</td>\n",
       "      <td>2.440392</td>\n",
       "      <td>0.042375</td>\n",
       "      <td>11.194897</td>\n",
       "      <td>1.419294e+06</td>\n",
       "      <td>786471.515392</td>\n",
       "      <td>47.416007</td>\n",
       "      <td>5.215457e+07</td>\n",
       "      <td>3.891364e+07</td>\n",
       "      <td>2.355921e+06</td>\n",
       "      <td>28.583950</td>\n",
       "      <td>299429.502224</td>\n",
       "      <td>0.552632</td>\n",
       "      <td>275034.624421</td>\n",
       "      <td>18.832057</td>\n",
       "    </tr>\n",
       "    <tr>\n",
       "      <td>5</td>\n",
       "      <td>300</td>\n",
       "      <td>2</td>\n",
       "      <td>36.609103</td>\n",
       "      <td>2.437533</td>\n",
       "      <td>0.041927</td>\n",
       "      <td>11.267589</td>\n",
       "      <td>1.449293e+06</td>\n",
       "      <td>800428.816009</td>\n",
       "      <td>47.474071</td>\n",
       "      <td>5.337498e+07</td>\n",
       "      <td>4.000549e+07</td>\n",
       "      <td>2.401110e+06</td>\n",
       "      <td>28.483992</td>\n",
       "      <td>305452.965103</td>\n",
       "      <td>0.540881</td>\n",
       "      <td>282056.386815</td>\n",
       "      <td>18.990079</td>\n",
       "    </tr>\n",
       "  </tbody>\n",
       "</table>\n",
       "</div>"
      ],
      "text/plain": [
       "   flow  sample          mu      mu_x   lambda_      sigma             h  \\\n",
       "0   100       1  133.249437  1.445573  0.007161  20.784495  3.459232e+06   \n",
       "1   100       2   78.511753  1.992502  0.011079  20.598585  1.967882e+06   \n",
       "2   200       1   62.781911  3.093162  0.032624  18.163393  1.354485e+06   \n",
       "3   200       2   66.065430  3.570099  0.041064  21.464332  1.169426e+06   \n",
       "4   300       1   36.718591  2.440392  0.042375  11.194897  1.419294e+06   \n",
       "5   300       2   36.609103  2.437533  0.041927  11.267589  1.449293e+06   \n",
       "\n",
       "      tissue_max  tissue_x_max  input_integral  tissue_integral     input_max  \\\n",
       "0  932660.007290    182.669720    1.608301e+08     1.091706e+08  2.305769e+06   \n",
       "1  682379.493759    123.186942    1.219042e+08     8.881070e+07  1.772555e+06   \n",
       "2  833308.431967     78.880157    8.032373e+07     6.020789e+07  2.323809e+06   \n",
       "3  862367.856082     78.895128    8.260553e+07     6.188868e+07  2.476852e+06   \n",
       "4  786471.515392     47.416007    5.215457e+07     3.891364e+07  2.355921e+06   \n",
       "5  800428.816009     47.474071    5.337498e+07     4.000549e+07  2.401110e+06   \n",
       "\n",
       "   input_x_max            std  skewness           mean  peak_time_difference  \n",
       "0   118.793711  309106.389210  1.395397  184164.407288             63.876009  \n",
       "1    58.586732  237359.182831  0.571097  242688.100938             64.600210  \n",
       "2    47.316101  310345.925135  0.689358  268301.277536             31.564057  \n",
       "3    48.214937  320526.422085  0.701743  276009.680701             30.680192  \n",
       "4    28.583950  299429.502224  0.552632  275034.624421             18.832057  \n",
       "5    28.483992  305452.965103  0.540881  282056.386815             18.990079  "
      ]
     },
     "execution_count": 19,
     "metadata": {},
     "output_type": "execute_result"
    }
   ],
   "source": [
    "results_df"
   ]
  },
  {
   "cell_type": "code",
   "execution_count": null,
   "metadata": {},
   "outputs": [
    {
     "name": "stdout",
     "output_type": "stream",
     "text": [
      "                            OLS Regression Results                            \n",
      "==============================================================================\n",
      "Dep. Variable:                      h   R-squared:                       0.977\n",
      "Model:                            OLS   Adj. R-squared:                  0.962\n",
      "Method:                 Least Squares   F-statistic:                     64.61\n",
      "Date:                Wed, 03 Nov 2021   Prob (F-statistic):            0.00342\n",
      "Time:                        14:14:57   Log-Likelihood:                -78.554\n",
      "No. Observations:                   6   AIC:                             163.1\n",
      "Df Residuals:                       3   BIC:                             162.5\n",
      "Df Model:                           2                                         \n",
      "Covariance Type:            nonrobust                                         \n",
      "==================================================================================\n",
      "                     coef    std err          t      P>|t|      [0.025      0.975]\n",
      "----------------------------------------------------------------------------------\n",
      "Intercept      -4.519e+06   9.27e+05     -4.875      0.016   -7.47e+06   -1.57e+06\n",
      "input_integral     0.0421      0.005      8.358      0.004       0.026       0.058\n",
      "flow            1.226e+04   2381.966      5.149      0.014    4683.943    1.98e+04\n",
      "==============================================================================\n",
      "Omnibus:                          nan   Durbin-Watson:                   2.455\n",
      "Prob(Omnibus):                    nan   Jarque-Bera (JB):                1.594\n",
      "Skew:                          -1.251   Prob(JB):                        0.451\n",
      "Kurtosis:                       3.335   Cond. No.                     1.36e+09\n",
      "==============================================================================\n",
      "\n",
      "Warnings:\n",
      "[1] Standard Errors assume that the covariance matrix of the errors is correctly specified.\n",
      "[2] The condition number is large, 1.36e+09. This might indicate that there are\n",
      "strong multicollinearity or other numerical problems.\n"
     ]
    },
    {
     "name": "stderr",
     "output_type": "stream",
     "text": [
      "/home/mikael/anaconda3/lib/python3.7/site-packages/statsmodels/stats/stattools.py:71: ValueWarning: omni_normtest is not valid with less than 8 observations; 6 samples were given.\n",
      "  \"samples were given.\" % int(n), ValueWarning)\n"
     ]
    },
    {
     "data": {
      "text/plain": [
       "<matplotlib.collections.PathCollection at 0x7f0578cebd90>"
      ]
     },
     "execution_count": 20,
     "metadata": {},
     "output_type": "execute_result"
    },
    {
     "data": {
      "image/png": "[encoded data removed]",
      "text/plain": [
       "<Figure size 432x288 with 1 Axes>"
      ]
     },
     "metadata": {
      "needs_background": "light"
     },
     "output_type": "display_data"
    }
   ],
   "source": [
    "fit = smf.ols('h ~ input_integral + flow', data=results_df).fit()\n",
    "print(fit.summary())\n",
    "y_pred = fit.predict(feature_df)\n",
    "plt.scatter(results_df[\"flow\"], y_pred, color=\"r\")\n",
    "plt.scatter(results_df[\"flow\"], results_df[\"h\"], color=\"b\")"
   ]
  },
  {
   "cell_type": "code",
   "execution_count": null,
   "metadata": {},
   "outputs": [
    {
     "data": {
      "text/plain": [
       "<matplotlib.axes._subplots.AxesSubplot at 0x7f0578ca5750>"
      ]
     },
     "execution_count": 21,
     "metadata": {},
     "output_type": "execute_result"
    },
    {
     "data": {
      "image/png": "[encoded data removed]",
      "text/plain": [
       "<Figure size 432x288 with 1 Axes>"
      ]
     },
     "metadata": {
      "needs_background": "light"
     },
     "output_type": "display_data"
    }
   ],
   "source": [
    "results_df.plot.scatter(\"flow\", \"h\")"
   ]
  },
  {
   "cell_type": "code",
   "execution_count": null,
   "metadata": {},
   "outputs": [],
   "source": [
    "\n",
    "def plot_against_predictions(flow, sample, results_df, df):\n",
    "    #CREATE X-RANGE, GET MODEL PARAMETERS\n",
    "    x_range = np.linspace(0, 350, 700)\n",
    "    mu_x, sigma, lambda_ = get_model_params(flow, results_df)\n",
    "    data = get_selected_df(df, flow, sample)\n",
    "    # TRANSFORM MU_X -> MU\n",
    "    mu = (data[\"input_x_max\"] + mu_x * 1000 / data[\"flow\"]).iloc[0]\n",
    "    #CREATE Y-VALUES\n",
    "    h = get_selected_df(results_df, flow, sample)[\"h\"].iloc[0]\n",
    "    emg_vals = EMG(x_range, mu, sigma, lambda_, h)\n",
    "\n",
    "    plt.plot(data[\"x\"], data[\"s_tissue\"], color=\"r\")\n",
    "    plt.plot(x_range, emg_vals, color=\"b\")"
   ]
  },
  {
   "cell_type": "code",
   "execution_count": null,
   "metadata": {},
   "outputs": [
    {
     "ename": "TypeError",
     "evalue": "get_model_params() missing 1 required positional argument: 'results_df'",
     "output_type": "error",
     "traceback": [
      "\u001b[0;31m---------------------------------------------------------------------------\u001b[0m",
      "\u001b[0;31mTypeError\u001b[0m                                 Traceback (most recent call last)",
      "\u001b[0;32m<ipython-input-23-d6318cfdf5ee>\u001b[0m in \u001b[0;36m<module>\u001b[0;34m\u001b[0m\n\u001b[0;32m----> 1\u001b[0;31m \u001b[0mplot_against_predictions\u001b[0m\u001b[0;34m(\u001b[0m\u001b[0;36m300\u001b[0m\u001b[0;34m,\u001b[0m \u001b[0;36m1\u001b[0m\u001b[0;34m,\u001b[0m \u001b[0mresults_df\u001b[0m\u001b[0;34m,\u001b[0m \u001b[0msampled_df\u001b[0m\u001b[0;34m)\u001b[0m\u001b[0;34m\u001b[0m\u001b[0;34m\u001b[0m\u001b[0m\n\u001b[0m",
      "\u001b[0;32m<ipython-input-22-1012dae55717>\u001b[0m in \u001b[0;36mplot_against_predictions\u001b[0;34m(flow, sample, results_df, df)\u001b[0m\n\u001b[1;32m      2\u001b[0m     \u001b[0;31m#CREATE X-RANGE, GET MODEL PARAMETERS\u001b[0m\u001b[0;34m\u001b[0m\u001b[0;34m\u001b[0m\u001b[0;34m\u001b[0m\u001b[0m\n\u001b[1;32m      3\u001b[0m     \u001b[0mx_range\u001b[0m \u001b[0;34m=\u001b[0m \u001b[0mnp\u001b[0m\u001b[0;34m.\u001b[0m\u001b[0mlinspace\u001b[0m\u001b[0;34m(\u001b[0m\u001b[0;36m0\u001b[0m\u001b[0;34m,\u001b[0m \u001b[0;36m350\u001b[0m\u001b[0;34m,\u001b[0m \u001b[0;36m700\u001b[0m\u001b[0;34m)\u001b[0m\u001b[0;34m\u001b[0m\u001b[0;34m\u001b[0m\u001b[0m\n\u001b[0;32m----> 4\u001b[0;31m     \u001b[0mmu_x\u001b[0m\u001b[0;34m,\u001b[0m \u001b[0msigma\u001b[0m\u001b[0;34m,\u001b[0m \u001b[0mlambda_\u001b[0m \u001b[0;34m=\u001b[0m \u001b[0mget_model_params\u001b[0m\u001b[0;34m(\u001b[0m\u001b[0mflow\u001b[0m\u001b[0;34m,\u001b[0m \u001b[0mresults_df\u001b[0m\u001b[0;34m)\u001b[0m\u001b[0;34m\u001b[0m\u001b[0;34m\u001b[0m\u001b[0m\n\u001b[0m\u001b[1;32m      5\u001b[0m     \u001b[0mdata\u001b[0m \u001b[0;34m=\u001b[0m \u001b[0mget_selected_df\u001b[0m\u001b[0;34m(\u001b[0m\u001b[0mdf\u001b[0m\u001b[0;34m,\u001b[0m \u001b[0mflow\u001b[0m\u001b[0;34m,\u001b[0m \u001b[0msample\u001b[0m\u001b[0;34m)\u001b[0m\u001b[0;34m\u001b[0m\u001b[0;34m\u001b[0m\u001b[0m\n\u001b[1;32m      6\u001b[0m     \u001b[0;31m# TRANSFORM MU_X -> MU\u001b[0m\u001b[0;34m\u001b[0m\u001b[0;34m\u001b[0m\u001b[0;34m\u001b[0m\u001b[0m\n",
      "\u001b[0;31mTypeError\u001b[0m: get_model_params() missing 1 required positional argument: 'results_df'"
     ]
    }
   ],
   "source": [
    "plot_against_predictions(300, 1, results_df, sampled_df)"
   ]
  },
  {
   "cell_type": "code",
   "execution_count": null,
   "metadata": {},
   "outputs": [],
   "source": []
  },
  {
   "cell_type": "code",
   "execution_count": null,
   "metadata": {},
   "outputs": [
    {
     "data": {
      "text/plain": [
       "<matplotlib.axes._subplots.AxesSubplot at 0x7f87a9a951d0>"
      ]
     },
     "execution_count": 107,
     "metadata": {},
     "output_type": "execute_result"
    },
    {
     "data": {
      "image/png": "[encoded data removed]",
      "text/plain": [
       "<Figure size 432x288 with 1 Axes>"
      ]
     },
     "metadata": {
      "needs_background": "light"
     },
     "output_type": "display_data"
    }
   ],
   "source": [
    "results_df.plot.scatter(\"flow\", \"h\")"
   ]
  },
  {
   "cell_type": "code",
   "execution_count": null,
   "metadata": {},
   "outputs": [
    {
     "data": {
      "text/plain": [
       "<matplotlib.collections.PathCollection at 0x7f87ad561a10>"
      ]
     },
     "execution_count": 98,
     "metadata": {},
     "output_type": "execute_result"
    },
    {
     "data": {
      "image/png": "[encoded data removed]",
      "text/plain": [
       "<Figure size 432x288 with 1 Axes>"
      ]
     },
     "metadata": {
      "needs_background": "light"
     },
     "output_type": "display_data"
    }
   ],
   "source": [
    "plt.scatter(results_df[\"flow\"], results_df[\"lambda_\"])"
   ]
  },
  {
   "cell_type": "code",
   "execution_count": null,
   "metadata": {},
   "outputs": [
    {
     "data": {
      "text/html": [
       "<div>\n",
       "<style scoped>\n",
       "    .dataframe tbody tr th:only-of-type {\n",
       "        vertical-align: middle;\n",
       "    }\n",
       "\n",
       "    .dataframe tbody tr th {\n",
       "        vertical-align: top;\n",
       "    }\n",
       "\n",
       "    .dataframe thead th {\n",
       "        text-align: right;\n",
       "    }\n",
       "</style>\n",
       "<table border=\"1\" class=\"dataframe\">\n",
       "  <thead>\n",
       "    <tr style=\"text-align: right;\">\n",
       "      <th></th>\n",
       "      <th>flow</th>\n",
       "      <th>sample</th>\n",
       "      <th>mu</th>\n",
       "      <th>mu_x</th>\n",
       "      <th>lambda_</th>\n",
       "      <th>sigma</th>\n",
       "      <th>h</th>\n",
       "      <th>tissue_max</th>\n",
       "      <th>tissue_x_max</th>\n",
       "      <th>input_integral</th>\n",
       "      <th>tissue_integral</th>\n",
       "      <th>input_max</th>\n",
       "      <th>input_x_max</th>\n",
       "      <th>std</th>\n",
       "      <th>skewness</th>\n",
       "      <th>mean</th>\n",
       "      <th>peak_time_difference</th>\n",
       "      <th>predicted_values</th>\n",
       "    </tr>\n",
       "  </thead>\n",
       "  <tbody>\n",
       "    <tr>\n",
       "      <td>0</td>\n",
       "      <td>100</td>\n",
       "      <td>1</td>\n",
       "      <td>133.249437</td>\n",
       "      <td>1.445573</td>\n",
       "      <td>0.007161</td>\n",
       "      <td>20.784495</td>\n",
       "      <td>0.031685</td>\n",
       "      <td>932660.007290</td>\n",
       "      <td>182.669720</td>\n",
       "      <td>1.608301e+08</td>\n",
       "      <td>1.091706e+08</td>\n",
       "      <td>2.305769e+06</td>\n",
       "      <td>118.793711</td>\n",
       "      <td>309106.389210</td>\n",
       "      <td>1.395397</td>\n",
       "      <td>184164.407288</td>\n",
       "      <td>63.876009</td>\n",
       "      <td>17.930943</td>\n",
       "    </tr>\n",
       "    <tr>\n",
       "      <td>1</td>\n",
       "      <td>100</td>\n",
       "      <td>2</td>\n",
       "      <td>78.511753</td>\n",
       "      <td>1.992502</td>\n",
       "      <td>0.011079</td>\n",
       "      <td>20.598585</td>\n",
       "      <td>0.022158</td>\n",
       "      <td>682379.493759</td>\n",
       "      <td>123.186942</td>\n",
       "      <td>1.219042e+08</td>\n",
       "      <td>8.881070e+07</td>\n",
       "      <td>1.772555e+06</td>\n",
       "      <td>58.586732</td>\n",
       "      <td>237359.182831</td>\n",
       "      <td>0.571097</td>\n",
       "      <td>242688.100938</td>\n",
       "      <td>64.600210</td>\n",
       "      <td>17.667981</td>\n",
       "    </tr>\n",
       "    <tr>\n",
       "      <td>2</td>\n",
       "      <td>200</td>\n",
       "      <td>1</td>\n",
       "      <td>62.781911</td>\n",
       "      <td>3.093162</td>\n",
       "      <td>0.032624</td>\n",
       "      <td>18.163393</td>\n",
       "      <td>0.022497</td>\n",
       "      <td>833308.431967</td>\n",
       "      <td>78.880157</td>\n",
       "      <td>8.032373e+07</td>\n",
       "      <td>6.020789e+07</td>\n",
       "      <td>2.323809e+06</td>\n",
       "      <td>47.316101</td>\n",
       "      <td>310345.925135</td>\n",
       "      <td>0.689358</td>\n",
       "      <td>268301.277536</td>\n",
       "      <td>31.564057</td>\n",
       "      <td>17.272113</td>\n",
       "    </tr>\n",
       "    <tr>\n",
       "      <td>3</td>\n",
       "      <td>200</td>\n",
       "      <td>2</td>\n",
       "      <td>66.065430</td>\n",
       "      <td>3.570099</td>\n",
       "      <td>0.041064</td>\n",
       "      <td>21.464332</td>\n",
       "      <td>0.018896</td>\n",
       "      <td>862367.856082</td>\n",
       "      <td>78.895128</td>\n",
       "      <td>8.260553e+07</td>\n",
       "      <td>6.188868e+07</td>\n",
       "      <td>2.476852e+06</td>\n",
       "      <td>48.214937</td>\n",
       "      <td>320526.422085</td>\n",
       "      <td>0.701743</td>\n",
       "      <td>276009.680701</td>\n",
       "      <td>30.680192</td>\n",
       "      <td>17.298694</td>\n",
       "    </tr>\n",
       "    <tr>\n",
       "      <td>4</td>\n",
       "      <td>300</td>\n",
       "      <td>1</td>\n",
       "      <td>36.718591</td>\n",
       "      <td>2.440392</td>\n",
       "      <td>0.042375</td>\n",
       "      <td>11.194897</td>\n",
       "      <td>0.036472</td>\n",
       "      <td>786471.515392</td>\n",
       "      <td>47.416007</td>\n",
       "      <td>5.215457e+07</td>\n",
       "      <td>3.891364e+07</td>\n",
       "      <td>2.355921e+06</td>\n",
       "      <td>28.583950</td>\n",
       "      <td>299429.502224</td>\n",
       "      <td>0.552632</td>\n",
       "      <td>275034.624421</td>\n",
       "      <td>18.832057</td>\n",
       "      <td>16.862313</td>\n",
       "    </tr>\n",
       "    <tr>\n",
       "      <td>5</td>\n",
       "      <td>300</td>\n",
       "      <td>2</td>\n",
       "      <td>36.609103</td>\n",
       "      <td>2.437533</td>\n",
       "      <td>0.041927</td>\n",
       "      <td>11.267589</td>\n",
       "      <td>0.036227</td>\n",
       "      <td>800428.816009</td>\n",
       "      <td>47.474071</td>\n",
       "      <td>5.337498e+07</td>\n",
       "      <td>4.000549e+07</td>\n",
       "      <td>2.401110e+06</td>\n",
       "      <td>28.483992</td>\n",
       "      <td>305452.965103</td>\n",
       "      <td>0.540881</td>\n",
       "      <td>282056.386815</td>\n",
       "      <td>18.990079</td>\n",
       "      <td>16.884262</td>\n",
       "    </tr>\n",
       "  </tbody>\n",
       "</table>\n",
       "</div>"
      ],
      "text/plain": [
       "   flow  sample          mu      mu_x   lambda_      sigma         h  \\\n",
       "0   100       1  133.249437  1.445573  0.007161  20.784495  0.031685   \n",
       "1   100       2   78.511753  1.992502  0.011079  20.598585  0.022158   \n",
       "2   200       1   62.781911  3.093162  0.032624  18.163393  0.022497   \n",
       "3   200       2   66.065430  3.570099  0.041064  21.464332  0.018896   \n",
       "4   300       1   36.718591  2.440392  0.042375  11.194897  0.036472   \n",
       "5   300       2   36.609103  2.437533  0.041927  11.267589  0.036227   \n",
       "\n",
       "      tissue_max  tissue_x_max  input_integral  tissue_integral     input_max  \\\n",
       "0  932660.007290    182.669720    1.608301e+08     1.091706e+08  2.305769e+06   \n",
       "1  682379.493759    123.186942    1.219042e+08     8.881070e+07  1.772555e+06   \n",
       "2  833308.431967     78.880157    8.032373e+07     6.020789e+07  2.323809e+06   \n",
       "3  862367.856082     78.895128    8.260553e+07     6.188868e+07  2.476852e+06   \n",
       "4  786471.515392     47.416007    5.215457e+07     3.891364e+07  2.355921e+06   \n",
       "5  800428.816009     47.474071    5.337498e+07     4.000549e+07  2.401110e+06   \n",
       "\n",
       "   input_x_max            std  skewness           mean  peak_time_difference  \\\n",
       "0   118.793711  309106.389210  1.395397  184164.407288             63.876009   \n",
       "1    58.586732  237359.182831  0.571097  242688.100938             64.600210   \n",
       "2    47.316101  310345.925135  0.689358  268301.277536             31.564057   \n",
       "3    48.214937  320526.422085  0.701743  276009.680701             30.680192   \n",
       "4    28.583950  299429.502224  0.552632  275034.624421             18.832057   \n",
       "5    28.483992  305452.965103  0.540881  282056.386815             18.990079   \n",
       "\n",
       "   predicted_values  \n",
       "0         17.930943  \n",
       "1         17.667981  \n",
       "2         17.272113  \n",
       "3         17.298694  \n",
       "4         16.862313  \n",
       "5         16.884262  "
      ]
     },
     "execution_count": 88,
     "metadata": {},
     "output_type": "execute_result"
    }
   ],
   "source": [
    "results_df"
   ]
  },
  {
   "cell_type": "code",
   "execution_count": null,
   "metadata": {},
   "outputs": [
    {
     "data": {
      "text/plain": [
       "<matplotlib.collections.PathCollection at 0x7f87ad1e5650>"
      ]
     },
     "execution_count": 99,
     "metadata": {},
     "output_type": "execute_result"
    },
    {
     "data": {
      "image/png": "[encoded data removed]",
      "text/plain": [
       "<Figure size 432x288 with 1 Axes>"
      ]
     },
     "metadata": {
      "needs_background": "light"
     },
     "output_type": "display_data"
    }
   ],
   "source": [
    "coefficients = np.polyfit(results_df[\"flow\"], results_df[\"lambda_\"], 2)\n",
    "func = np.poly1d(coefficients)\n",
    "x_range = np.linspace(80, 300)\n",
    "y_s = func(x_range)\n",
    "plt.plot(x_range, y_s)\n",
    "plt.scatter(results_df[\"flow\"], results_df[\"lambda_\"])"
   ]
  },
  {
   "cell_type": "code",
   "execution_count": null,
   "metadata": {},
   "outputs": [],
   "source": [
    "aa = results_df.groupby([\"flow\"]).mean()\n",
    "aa.reset_index(level=0, inplace=True)"
   ]
  },
  {
   "cell_type": "code",
   "execution_count": null,
   "metadata": {},
   "outputs": [
    {
     "data": {
      "text/plain": [
       "<matplotlib.axes._subplots.AxesSubplot at 0x7f87aa4c2450>"
      ]
     },
     "execution_count": 38,
     "metadata": {},
     "output_type": "execute_result"
    },
    {
     "data": {
      "image/png": "[encoded data removed]",
      "text/plain": [
       "<Figure size 432x288 with 1 Axes>"
      ]
     },
     "metadata": {
      "needs_background": "light"
     },
     "output_type": "display_data"
    }
   ],
   "source": [
    "results_df.plot.scatter(\"flow\", \"sigma\")"
   ]
  },
  {
   "cell_type": "code",
   "execution_count": null,
   "metadata": {},
   "outputs": [
    {
     "name": "stdout",
     "output_type": "stream",
     "text": [
      "FLOW: 100, SAMPLE: 1, SIGMA: 3218.569319725927, LAMBDA: 8.630069276865442e-07, MU_x: 6.283315221181237\n"
     ]
    },
    {
     "data": {
      "image/png": "[encoded data removed]",
      "text/plain": [
       "<Figure size 432x288 with 1 Axes>"
      ]
     },
     "metadata": {
      "needs_background": "light"
     },
     "output_type": "display_data"
    },
    {
     "name": "stdout",
     "output_type": "stream",
     "text": [
      "FLOW: 100, SAMPLE: 2, SIGMA: 3218.566713739128, LAMBDA: 8.437611749139164e-07, MU_x: 6.292302956573166\n"
     ]
    },
    {
     "data": {
      "image/png": "[encoded data removed]",
      "text/plain": [
       "<Figure size 432x288 with 1 Axes>"
      ]
     },
     "metadata": {
      "needs_background": "light"
     },
     "output_type": "display_data"
    },
    {
     "ename": "KeyboardInterrupt",
     "evalue": "",
     "output_type": "error",
     "traceback": [
      "\u001b[0;31m---------------------------------------------------------------------------\u001b[0m",
      "\u001b[0;31mKeyboardInterrupt\u001b[0m                         Traceback (most recent call last)",
      "\u001b[0;32m<ipython-input-17-e5fd5e06867e>\u001b[0m in \u001b[0;36m<module>\u001b[0;34m\u001b[0m\n\u001b[1;32m     18\u001b[0m     \u001b[0mx_0\u001b[0m \u001b[0;34m=\u001b[0m \u001b[0;34m[\u001b[0m\u001b[0mmu_x_alkuarvaus\u001b[0m\u001b[0;34m,\u001b[0m \u001b[0msigma_alkuarvaus\u001b[0m\u001b[0;34m,\u001b[0m \u001b[0mlambda_alkuarvaus\u001b[0m\u001b[0;34m,\u001b[0m \u001b[0;36m1\u001b[0m\u001b[0;34m]\u001b[0m\u001b[0;34m\u001b[0m\u001b[0;34m\u001b[0m\u001b[0m\n\u001b[1;32m     19\u001b[0m \u001b[0;34m\u001b[0m\u001b[0m\n\u001b[0;32m---> 20\u001b[0;31m     \u001b[0mres\u001b[0m \u001b[0;34m=\u001b[0m \u001b[0mscipy\u001b[0m\u001b[0;34m.\u001b[0m\u001b[0moptimize\u001b[0m\u001b[0;34m.\u001b[0m\u001b[0mminimize\u001b[0m\u001b[0;34m(\u001b[0m\u001b[0mEMG_loss\u001b[0m\u001b[0;34m,\u001b[0m \u001b[0margs\u001b[0m\u001b[0;34m=\u001b[0m\u001b[0mgroup\u001b[0m\u001b[0;34m,\u001b[0m \u001b[0mx0\u001b[0m\u001b[0;34m=\u001b[0m\u001b[0mx_0\u001b[0m\u001b[0;34m)\u001b[0m\u001b[0;34m\u001b[0m\u001b[0;34m\u001b[0m\u001b[0m\n\u001b[0m\u001b[1;32m     21\u001b[0m     \u001b[0;31m#res = scipy.optimize.differential_evolution(EMG_loss, bounds=bounds, args=[group])\u001b[0m\u001b[0;34m\u001b[0m\u001b[0;34m\u001b[0m\u001b[0;34m\u001b[0m\u001b[0m\n\u001b[1;32m     22\u001b[0m     \u001b[0mx_range\u001b[0m \u001b[0;34m=\u001b[0m \u001b[0mnp\u001b[0m\u001b[0;34m.\u001b[0m\u001b[0mlinspace\u001b[0m\u001b[0;34m(\u001b[0m\u001b[0;36m0\u001b[0m\u001b[0;34m,\u001b[0m \u001b[0;36m300\u001b[0m\u001b[0;34m,\u001b[0m \u001b[0;36m900\u001b[0m\u001b[0;34m)\u001b[0m\u001b[0;34m\u001b[0m\u001b[0;34m\u001b[0m\u001b[0m\n",
      "\u001b[0;32m~/anaconda3/lib/python3.7/site-packages/scipy/optimize/_minimize.py\u001b[0m in \u001b[0;36mminimize\u001b[0;34m(fun, x0, args, method, jac, hess, hessp, bounds, constraints, tol, callback, options)\u001b[0m\n\u001b[1;32m    592\u001b[0m         \u001b[0;32mreturn\u001b[0m \u001b[0m_minimize_cg\u001b[0m\u001b[0;34m(\u001b[0m\u001b[0mfun\u001b[0m\u001b[0;34m,\u001b[0m \u001b[0mx0\u001b[0m\u001b[0;34m,\u001b[0m \u001b[0margs\u001b[0m\u001b[0;34m,\u001b[0m \u001b[0mjac\u001b[0m\u001b[0;34m,\u001b[0m \u001b[0mcallback\u001b[0m\u001b[0;34m,\u001b[0m \u001b[0;34m**\u001b[0m\u001b[0moptions\u001b[0m\u001b[0;34m)\u001b[0m\u001b[0;34m\u001b[0m\u001b[0;34m\u001b[0m\u001b[0m\n\u001b[1;32m    593\u001b[0m     \u001b[0;32melif\u001b[0m \u001b[0mmeth\u001b[0m \u001b[0;34m==\u001b[0m \u001b[0;34m'bfgs'\u001b[0m\u001b[0;34m:\u001b[0m\u001b[0;34m\u001b[0m\u001b[0;34m\u001b[0m\u001b[0m\n\u001b[0;32m--> 594\u001b[0;31m         \u001b[0;32mreturn\u001b[0m \u001b[0m_minimize_bfgs\u001b[0m\u001b[0;34m(\u001b[0m\u001b[0mfun\u001b[0m\u001b[0;34m,\u001b[0m \u001b[0mx0\u001b[0m\u001b[0;34m,\u001b[0m \u001b[0margs\u001b[0m\u001b[0;34m,\u001b[0m \u001b[0mjac\u001b[0m\u001b[0;34m,\u001b[0m \u001b[0mcallback\u001b[0m\u001b[0;34m,\u001b[0m \u001b[0;34m**\u001b[0m\u001b[0moptions\u001b[0m\u001b[0;34m)\u001b[0m\u001b[0;34m\u001b[0m\u001b[0;34m\u001b[0m\u001b[0m\n\u001b[0m\u001b[1;32m    595\u001b[0m     \u001b[0;32melif\u001b[0m \u001b[0mmeth\u001b[0m \u001b[0;34m==\u001b[0m \u001b[0;34m'newton-cg'\u001b[0m\u001b[0;34m:\u001b[0m\u001b[0;34m\u001b[0m\u001b[0;34m\u001b[0m\u001b[0m\n\u001b[1;32m    596\u001b[0m         return _minimize_newtoncg(fun, x0, args, jac, hess, hessp, callback,\n",
      "\u001b[0;32m~/anaconda3/lib/python3.7/site-packages/scipy/optimize/optimize.py\u001b[0m in \u001b[0;36m_minimize_bfgs\u001b[0;34m(fun, x0, args, jac, callback, gtol, norm, eps, maxiter, disp, return_all, **unknown_options)\u001b[0m\n\u001b[1;32m   1014\u001b[0m             \u001b[0malpha_k\u001b[0m\u001b[0;34m,\u001b[0m \u001b[0mfc\u001b[0m\u001b[0;34m,\u001b[0m \u001b[0mgc\u001b[0m\u001b[0;34m,\u001b[0m \u001b[0mold_fval\u001b[0m\u001b[0;34m,\u001b[0m \u001b[0mold_old_fval\u001b[0m\u001b[0;34m,\u001b[0m \u001b[0mgfkp1\u001b[0m \u001b[0;34m=\u001b[0m\u001b[0;31m \u001b[0m\u001b[0;31m\\\u001b[0m\u001b[0;34m\u001b[0m\u001b[0;34m\u001b[0m\u001b[0m\n\u001b[1;32m   1015\u001b[0m                      _line_search_wolfe12(f, myfprime, xk, pk, gfk,\n\u001b[0;32m-> 1016\u001b[0;31m                                           old_fval, old_old_fval, amin=1e-100, amax=1e100)\n\u001b[0m\u001b[1;32m   1017\u001b[0m         \u001b[0;32mexcept\u001b[0m \u001b[0m_LineSearchError\u001b[0m\u001b[0;34m:\u001b[0m\u001b[0;34m\u001b[0m\u001b[0;34m\u001b[0m\u001b[0m\n\u001b[1;32m   1018\u001b[0m             \u001b[0;31m# Line search failed to find a better solution.\u001b[0m\u001b[0;34m\u001b[0m\u001b[0;34m\u001b[0m\u001b[0;34m\u001b[0m\u001b[0m\n",
      "\u001b[0;32m~/anaconda3/lib/python3.7/site-packages/scipy/optimize/optimize.py\u001b[0m in \u001b[0;36m_line_search_wolfe12\u001b[0;34m(f, fprime, xk, pk, gfk, old_fval, old_old_fval, **kwargs)\u001b[0m\n\u001b[1;32m    834\u001b[0m     ret = line_search_wolfe1(f, fprime, xk, pk, gfk,\n\u001b[1;32m    835\u001b[0m                              \u001b[0mold_fval\u001b[0m\u001b[0;34m,\u001b[0m \u001b[0mold_old_fval\u001b[0m\u001b[0;34m,\u001b[0m\u001b[0;34m\u001b[0m\u001b[0;34m\u001b[0m\u001b[0m\n\u001b[0;32m--> 836\u001b[0;31m                              **kwargs)\n\u001b[0m\u001b[1;32m    837\u001b[0m \u001b[0;34m\u001b[0m\u001b[0m\n\u001b[1;32m    838\u001b[0m     \u001b[0;32mif\u001b[0m \u001b[0mret\u001b[0m\u001b[0;34m[\u001b[0m\u001b[0;36m0\u001b[0m\u001b[0;34m]\u001b[0m \u001b[0;32mis\u001b[0m \u001b[0;32mnot\u001b[0m \u001b[0;32mNone\u001b[0m \u001b[0;32mand\u001b[0m \u001b[0mextra_condition\u001b[0m \u001b[0;32mis\u001b[0m \u001b[0;32mnot\u001b[0m \u001b[0;32mNone\u001b[0m\u001b[0;34m:\u001b[0m\u001b[0;34m\u001b[0m\u001b[0;34m\u001b[0m\u001b[0m\n",
      "\u001b[0;32m~/anaconda3/lib/python3.7/site-packages/scipy/optimize/linesearch.py\u001b[0m in \u001b[0;36mline_search_wolfe1\u001b[0;34m(f, fprime, xk, pk, gfk, old_fval, old_old_fval, args, c1, c2, amax, amin, xtol)\u001b[0m\n\u001b[1;32m     99\u001b[0m     stp, fval, old_fval = scalar_search_wolfe1(\n\u001b[1;32m    100\u001b[0m             \u001b[0mphi\u001b[0m\u001b[0;34m,\u001b[0m \u001b[0mderphi\u001b[0m\u001b[0;34m,\u001b[0m \u001b[0mold_fval\u001b[0m\u001b[0;34m,\u001b[0m \u001b[0mold_old_fval\u001b[0m\u001b[0;34m,\u001b[0m \u001b[0mderphi0\u001b[0m\u001b[0;34m,\u001b[0m\u001b[0;34m\u001b[0m\u001b[0;34m\u001b[0m\u001b[0m\n\u001b[0;32m--> 101\u001b[0;31m             c1=c1, c2=c2, amax=amax, amin=amin, xtol=xtol)\n\u001b[0m\u001b[1;32m    102\u001b[0m \u001b[0;34m\u001b[0m\u001b[0m\n\u001b[1;32m    103\u001b[0m     \u001b[0;32mreturn\u001b[0m \u001b[0mstp\u001b[0m\u001b[0;34m,\u001b[0m \u001b[0mfc\u001b[0m\u001b[0;34m[\u001b[0m\u001b[0;36m0\u001b[0m\u001b[0;34m]\u001b[0m\u001b[0;34m,\u001b[0m \u001b[0mgc\u001b[0m\u001b[0;34m[\u001b[0m\u001b[0;36m0\u001b[0m\u001b[0;34m]\u001b[0m\u001b[0;34m,\u001b[0m \u001b[0mfval\u001b[0m\u001b[0;34m,\u001b[0m \u001b[0mold_fval\u001b[0m\u001b[0;34m,\u001b[0m \u001b[0mgval\u001b[0m\u001b[0;34m[\u001b[0m\u001b[0;36m0\u001b[0m\u001b[0;34m]\u001b[0m\u001b[0;34m\u001b[0m\u001b[0;34m\u001b[0m\u001b[0m\n",
      "\u001b[0;32m~/anaconda3/lib/python3.7/site-packages/scipy/optimize/linesearch.py\u001b[0m in \u001b[0;36mscalar_search_wolfe1\u001b[0;34m(phi, derphi, phi0, old_phi0, derphi0, c1, c2, amax, amin, xtol)\u001b[0m\n\u001b[1;32m    174\u001b[0m             \u001b[0malpha1\u001b[0m \u001b[0;34m=\u001b[0m \u001b[0mstp\u001b[0m\u001b[0;34m\u001b[0m\u001b[0;34m\u001b[0m\u001b[0m\n\u001b[1;32m    175\u001b[0m             \u001b[0mphi1\u001b[0m \u001b[0;34m=\u001b[0m \u001b[0mphi\u001b[0m\u001b[0;34m(\u001b[0m\u001b[0mstp\u001b[0m\u001b[0;34m)\u001b[0m\u001b[0;34m\u001b[0m\u001b[0;34m\u001b[0m\u001b[0m\n\u001b[0;32m--> 176\u001b[0;31m             \u001b[0mderphi1\u001b[0m \u001b[0;34m=\u001b[0m \u001b[0mderphi\u001b[0m\u001b[0;34m(\u001b[0m\u001b[0mstp\u001b[0m\u001b[0;34m)\u001b[0m\u001b[0;34m\u001b[0m\u001b[0;34m\u001b[0m\u001b[0m\n\u001b[0m\u001b[1;32m    177\u001b[0m         \u001b[0;32melse\u001b[0m\u001b[0;34m:\u001b[0m\u001b[0;34m\u001b[0m\u001b[0;34m\u001b[0m\u001b[0m\n\u001b[1;32m    178\u001b[0m             \u001b[0;32mbreak\u001b[0m\u001b[0;34m\u001b[0m\u001b[0;34m\u001b[0m\u001b[0m\n",
      "\u001b[0;32m~/anaconda3/lib/python3.7/site-packages/scipy/optimize/linesearch.py\u001b[0m in \u001b[0;36mderphi\u001b[0;34m(s)\u001b[0m\n\u001b[1;32m     88\u001b[0m \u001b[0;34m\u001b[0m\u001b[0m\n\u001b[1;32m     89\u001b[0m     \u001b[0;32mdef\u001b[0m \u001b[0mderphi\u001b[0m\u001b[0;34m(\u001b[0m\u001b[0ms\u001b[0m\u001b[0;34m)\u001b[0m\u001b[0;34m:\u001b[0m\u001b[0;34m\u001b[0m\u001b[0;34m\u001b[0m\u001b[0m\n\u001b[0;32m---> 90\u001b[0;31m         \u001b[0mgval\u001b[0m\u001b[0;34m[\u001b[0m\u001b[0;36m0\u001b[0m\u001b[0;34m]\u001b[0m \u001b[0;34m=\u001b[0m \u001b[0mfprime\u001b[0m\u001b[0;34m(\u001b[0m\u001b[0mxk\u001b[0m \u001b[0;34m+\u001b[0m \u001b[0ms\u001b[0m\u001b[0;34m*\u001b[0m\u001b[0mpk\u001b[0m\u001b[0;34m,\u001b[0m \u001b[0;34m*\u001b[0m\u001b[0mnewargs\u001b[0m\u001b[0;34m)\u001b[0m\u001b[0;34m\u001b[0m\u001b[0;34m\u001b[0m\u001b[0m\n\u001b[0m\u001b[1;32m     91\u001b[0m         \u001b[0;32mif\u001b[0m \u001b[0mgradient\u001b[0m\u001b[0;34m:\u001b[0m\u001b[0;34m\u001b[0m\u001b[0;34m\u001b[0m\u001b[0m\n\u001b[1;32m     92\u001b[0m             \u001b[0mgc\u001b[0m\u001b[0;34m[\u001b[0m\u001b[0;36m0\u001b[0m\u001b[0;34m]\u001b[0m \u001b[0;34m+=\u001b[0m \u001b[0;36m1\u001b[0m\u001b[0;34m\u001b[0m\u001b[0;34m\u001b[0m\u001b[0m\n",
      "\u001b[0;32m~/anaconda3/lib/python3.7/site-packages/scipy/optimize/optimize.py\u001b[0m in \u001b[0;36mfunction_wrapper\u001b[0;34m(*wrapper_args)\u001b[0m\n\u001b[1;32m    324\u001b[0m     \u001b[0;32mdef\u001b[0m \u001b[0mfunction_wrapper\u001b[0m\u001b[0;34m(\u001b[0m\u001b[0;34m*\u001b[0m\u001b[0mwrapper_args\u001b[0m\u001b[0;34m)\u001b[0m\u001b[0;34m:\u001b[0m\u001b[0;34m\u001b[0m\u001b[0;34m\u001b[0m\u001b[0m\n\u001b[1;32m    325\u001b[0m         \u001b[0mncalls\u001b[0m\u001b[0;34m[\u001b[0m\u001b[0;36m0\u001b[0m\u001b[0;34m]\u001b[0m \u001b[0;34m+=\u001b[0m \u001b[0;36m1\u001b[0m\u001b[0;34m\u001b[0m\u001b[0;34m\u001b[0m\u001b[0m\n\u001b[0;32m--> 326\u001b[0;31m         \u001b[0;32mreturn\u001b[0m \u001b[0mfunction\u001b[0m\u001b[0;34m(\u001b[0m\u001b[0;34m*\u001b[0m\u001b[0;34m(\u001b[0m\u001b[0mwrapper_args\u001b[0m \u001b[0;34m+\u001b[0m \u001b[0margs\u001b[0m\u001b[0;34m)\u001b[0m\u001b[0;34m)\u001b[0m\u001b[0;34m\u001b[0m\u001b[0;34m\u001b[0m\u001b[0m\n\u001b[0m\u001b[1;32m    327\u001b[0m \u001b[0;34m\u001b[0m\u001b[0m\n\u001b[1;32m    328\u001b[0m     \u001b[0;32mreturn\u001b[0m \u001b[0mncalls\u001b[0m\u001b[0;34m,\u001b[0m \u001b[0mfunction_wrapper\u001b[0m\u001b[0;34m\u001b[0m\u001b[0;34m\u001b[0m\u001b[0m\n",
      "\u001b[0;32m~/anaconda3/lib/python3.7/site-packages/scipy/optimize/optimize.py\u001b[0m in \u001b[0;36mapprox_fprime\u001b[0;34m(xk, f, epsilon, *args)\u001b[0m\n\u001b[1;32m    754\u001b[0m \u001b[0;34m\u001b[0m\u001b[0m\n\u001b[1;32m    755\u001b[0m     \"\"\"\n\u001b[0;32m--> 756\u001b[0;31m     \u001b[0;32mreturn\u001b[0m \u001b[0m_approx_fprime_helper\u001b[0m\u001b[0;34m(\u001b[0m\u001b[0mxk\u001b[0m\u001b[0;34m,\u001b[0m \u001b[0mf\u001b[0m\u001b[0;34m,\u001b[0m \u001b[0mepsilon\u001b[0m\u001b[0;34m,\u001b[0m \u001b[0margs\u001b[0m\u001b[0;34m=\u001b[0m\u001b[0margs\u001b[0m\u001b[0;34m)\u001b[0m\u001b[0;34m\u001b[0m\u001b[0;34m\u001b[0m\u001b[0m\n\u001b[0m\u001b[1;32m    757\u001b[0m \u001b[0;34m\u001b[0m\u001b[0m\n\u001b[1;32m    758\u001b[0m \u001b[0;34m\u001b[0m\u001b[0m\n",
      "\u001b[0;32m~/anaconda3/lib/python3.7/site-packages/scipy/optimize/optimize.py\u001b[0m in \u001b[0;36m_approx_fprime_helper\u001b[0;34m(xk, f, epsilon, args, f0)\u001b[0m\n\u001b[1;32m    694\u001b[0m         \u001b[0mei\u001b[0m\u001b[0;34m[\u001b[0m\u001b[0mk\u001b[0m\u001b[0;34m]\u001b[0m \u001b[0;34m=\u001b[0m \u001b[0;36m1.0\u001b[0m\u001b[0;34m\u001b[0m\u001b[0;34m\u001b[0m\u001b[0m\n\u001b[1;32m    695\u001b[0m         \u001b[0md\u001b[0m \u001b[0;34m=\u001b[0m \u001b[0mepsilon\u001b[0m \u001b[0;34m*\u001b[0m \u001b[0mei\u001b[0m\u001b[0;34m\u001b[0m\u001b[0;34m\u001b[0m\u001b[0m\n\u001b[0;32m--> 696\u001b[0;31m         \u001b[0mgrad\u001b[0m\u001b[0;34m[\u001b[0m\u001b[0mk\u001b[0m\u001b[0;34m]\u001b[0m \u001b[0;34m=\u001b[0m \u001b[0;34m(\u001b[0m\u001b[0mf\u001b[0m\u001b[0;34m(\u001b[0m\u001b[0;34m*\u001b[0m\u001b[0;34m(\u001b[0m\u001b[0;34m(\u001b[0m\u001b[0mxk\u001b[0m \u001b[0;34m+\u001b[0m \u001b[0md\u001b[0m\u001b[0;34m,\u001b[0m\u001b[0;34m)\u001b[0m \u001b[0;34m+\u001b[0m \u001b[0margs\u001b[0m\u001b[0;34m)\u001b[0m\u001b[0;34m)\u001b[0m \u001b[0;34m-\u001b[0m \u001b[0mf0\u001b[0m\u001b[0;34m)\u001b[0m \u001b[0;34m/\u001b[0m \u001b[0md\u001b[0m\u001b[0;34m[\u001b[0m\u001b[0mk\u001b[0m\u001b[0;34m]\u001b[0m\u001b[0;34m\u001b[0m\u001b[0;34m\u001b[0m\u001b[0m\n\u001b[0m\u001b[1;32m    697\u001b[0m         \u001b[0mei\u001b[0m\u001b[0;34m[\u001b[0m\u001b[0mk\u001b[0m\u001b[0;34m]\u001b[0m \u001b[0;34m=\u001b[0m \u001b[0;36m0.0\u001b[0m\u001b[0;34m\u001b[0m\u001b[0;34m\u001b[0m\u001b[0m\n\u001b[1;32m    698\u001b[0m     \u001b[0;32mreturn\u001b[0m \u001b[0mgrad\u001b[0m\u001b[0;34m\u001b[0m\u001b[0;34m\u001b[0m\u001b[0m\n",
      "\u001b[0;32m~/anaconda3/lib/python3.7/site-packages/scipy/optimize/optimize.py\u001b[0m in \u001b[0;36mfunction_wrapper\u001b[0;34m(*wrapper_args)\u001b[0m\n\u001b[1;32m    324\u001b[0m     \u001b[0;32mdef\u001b[0m \u001b[0mfunction_wrapper\u001b[0m\u001b[0;34m(\u001b[0m\u001b[0;34m*\u001b[0m\u001b[0mwrapper_args\u001b[0m\u001b[0;34m)\u001b[0m\u001b[0;34m:\u001b[0m\u001b[0;34m\u001b[0m\u001b[0;34m\u001b[0m\u001b[0m\n\u001b[1;32m    325\u001b[0m         \u001b[0mncalls\u001b[0m\u001b[0;34m[\u001b[0m\u001b[0;36m0\u001b[0m\u001b[0;34m]\u001b[0m \u001b[0;34m+=\u001b[0m \u001b[0;36m1\u001b[0m\u001b[0;34m\u001b[0m\u001b[0;34m\u001b[0m\u001b[0m\n\u001b[0;32m--> 326\u001b[0;31m         \u001b[0;32mreturn\u001b[0m \u001b[0mfunction\u001b[0m\u001b[0;34m(\u001b[0m\u001b[0;34m*\u001b[0m\u001b[0;34m(\u001b[0m\u001b[0mwrapper_args\u001b[0m \u001b[0;34m+\u001b[0m \u001b[0margs\u001b[0m\u001b[0;34m)\u001b[0m\u001b[0;34m)\u001b[0m\u001b[0;34m\u001b[0m\u001b[0;34m\u001b[0m\u001b[0m\n\u001b[0m\u001b[1;32m    327\u001b[0m \u001b[0;34m\u001b[0m\u001b[0m\n\u001b[1;32m    328\u001b[0m     \u001b[0;32mreturn\u001b[0m \u001b[0mncalls\u001b[0m\u001b[0;34m,\u001b[0m \u001b[0mfunction_wrapper\u001b[0m\u001b[0;34m\u001b[0m\u001b[0;34m\u001b[0m\u001b[0m\n",
      "\u001b[0;32m<ipython-input-12-4ac6912cd7f0>\u001b[0m in \u001b[0;36mEMG_loss\u001b[0;34m(params, data)\u001b[0m\n\u001b[1;32m      5\u001b[0m         \u001b[0mmu\u001b[0m \u001b[0;34m=\u001b[0m \u001b[0;34m(\u001b[0m\u001b[0mgroup\u001b[0m\u001b[0;34m[\u001b[0m\u001b[0;34m\"input_x_max\"\u001b[0m\u001b[0;34m]\u001b[0m \u001b[0;34m+\u001b[0m \u001b[0mparams\u001b[0m\u001b[0;34m[\u001b[0m\u001b[0;36m0\u001b[0m\u001b[0;34m]\u001b[0m \u001b[0;34m*\u001b[0m \u001b[0;36m1000\u001b[0m \u001b[0;34m/\u001b[0m \u001b[0mgroup\u001b[0m\u001b[0;34m[\u001b[0m\u001b[0;34m\"flow\"\u001b[0m\u001b[0;34m]\u001b[0m\u001b[0;34m)\u001b[0m\u001b[0;34m.\u001b[0m\u001b[0miloc\u001b[0m\u001b[0;34m[\u001b[0m\u001b[0;36m0\u001b[0m\u001b[0;34m]\u001b[0m\u001b[0;34m\u001b[0m\u001b[0;34m\u001b[0m\u001b[0m\n\u001b[1;32m      6\u001b[0m         \u001b[0mh\u001b[0m \u001b[0;34m=\u001b[0m \u001b[0mparams\u001b[0m\u001b[0;34m[\u001b[0m\u001b[0;36m3\u001b[0m\u001b[0;34m]\u001b[0m\u001b[0;34m\u001b[0m\u001b[0;34m\u001b[0m\u001b[0m\n\u001b[0;32m----> 7\u001b[0;31m         \u001b[0memg_vals\u001b[0m \u001b[0;34m=\u001b[0m \u001b[0mEMG\u001b[0m\u001b[0;34m(\u001b[0m\u001b[0mgroup\u001b[0m\u001b[0;34m[\u001b[0m\u001b[0;34m\"x\"\u001b[0m\u001b[0;34m]\u001b[0m\u001b[0;34m,\u001b[0m \u001b[0mmu\u001b[0m\u001b[0;34m,\u001b[0m \u001b[0mparams\u001b[0m\u001b[0;34m[\u001b[0m\u001b[0;36m1\u001b[0m\u001b[0;34m]\u001b[0m\u001b[0;34m,\u001b[0m \u001b[0mparams\u001b[0m\u001b[0;34m[\u001b[0m\u001b[0;36m2\u001b[0m\u001b[0;34m]\u001b[0m\u001b[0;34m,\u001b[0m \u001b[0mh\u001b[0m\u001b[0;34m)\u001b[0m\u001b[0;34m\u001b[0m\u001b[0;34m\u001b[0m\u001b[0m\n\u001b[0m\u001b[1;32m      8\u001b[0m         \u001b[0;31m#print(np.isnan(emg_vals).any())\u001b[0m\u001b[0;34m\u001b[0m\u001b[0;34m\u001b[0m\u001b[0;34m\u001b[0m\u001b[0m\n\u001b[1;32m      9\u001b[0m         \u001b[0merror\u001b[0m \u001b[0;34m=\u001b[0m \u001b[0mnp\u001b[0m\u001b[0;34m.\u001b[0m\u001b[0msum\u001b[0m\u001b[0;34m(\u001b[0m\u001b[0;34m(\u001b[0m\u001b[0mgroup\u001b[0m\u001b[0;34m[\u001b[0m\u001b[0;34m\"ss_tissue\"\u001b[0m\u001b[0;34m]\u001b[0m \u001b[0;34m-\u001b[0m \u001b[0memg_vals\u001b[0m\u001b[0;34m)\u001b[0m \u001b[0;34m**\u001b[0m \u001b[0;36m2\u001b[0m\u001b[0;34m)\u001b[0m\u001b[0;34m\u001b[0m\u001b[0;34m\u001b[0m\u001b[0m\n",
      "\u001b[0;32m<ipython-input-9-16cd027b08ec>\u001b[0m in \u001b[0;36mEMG\u001b[0;34m(x, mu, sigma, lambda_, h)\u001b[0m\n\u001b[1;32m     25\u001b[0m         \u001b[0;32mreturn\u001b[0m \u001b[0mval\u001b[0m\u001b[0;34m\u001b[0m\u001b[0;34m\u001b[0m\u001b[0m\n\u001b[1;32m     26\u001b[0m     \u001b[0;31m#y = np.asarray([formula(x_, mu, sigma, tau) for x_ in x])\u001b[0m\u001b[0;34m\u001b[0m\u001b[0;34m\u001b[0m\u001b[0;34m\u001b[0m\u001b[0m\n\u001b[0;32m---> 27\u001b[0;31m     \u001b[0my\u001b[0m \u001b[0;34m=\u001b[0m \u001b[0mnp\u001b[0m\u001b[0;34m.\u001b[0m\u001b[0masarray\u001b[0m\u001b[0;34m(\u001b[0m\u001b[0;34m[\u001b[0m\u001b[0mformula1\u001b[0m\u001b[0;34m(\u001b[0m\u001b[0mx_\u001b[0m\u001b[0;34m,\u001b[0m \u001b[0mmu\u001b[0m\u001b[0;34m,\u001b[0m \u001b[0msigma\u001b[0m\u001b[0;34m)\u001b[0m \u001b[0;32mfor\u001b[0m \u001b[0mx_\u001b[0m \u001b[0;32min\u001b[0m \u001b[0mx\u001b[0m\u001b[0;34m]\u001b[0m\u001b[0;34m)\u001b[0m\u001b[0;34m\u001b[0m\u001b[0;34m\u001b[0m\u001b[0m\n\u001b[0m\u001b[1;32m     28\u001b[0m \u001b[0;34m\u001b[0m\u001b[0m\n\u001b[1;32m     29\u001b[0m     \u001b[0;32mreturn\u001b[0m \u001b[0mh\u001b[0m \u001b[0;34m*\u001b[0m \u001b[0my\u001b[0m\u001b[0;34m\u001b[0m\u001b[0;34m\u001b[0m\u001b[0m\n",
      "\u001b[0;32m<ipython-input-9-16cd027b08ec>\u001b[0m in \u001b[0;36m<listcomp>\u001b[0;34m(.0)\u001b[0m\n\u001b[1;32m     25\u001b[0m         \u001b[0;32mreturn\u001b[0m \u001b[0mval\u001b[0m\u001b[0;34m\u001b[0m\u001b[0;34m\u001b[0m\u001b[0m\n\u001b[1;32m     26\u001b[0m     \u001b[0;31m#y = np.asarray([formula(x_, mu, sigma, tau) for x_ in x])\u001b[0m\u001b[0;34m\u001b[0m\u001b[0;34m\u001b[0m\u001b[0;34m\u001b[0m\u001b[0m\n\u001b[0;32m---> 27\u001b[0;31m     \u001b[0my\u001b[0m \u001b[0;34m=\u001b[0m \u001b[0mnp\u001b[0m\u001b[0;34m.\u001b[0m\u001b[0masarray\u001b[0m\u001b[0;34m(\u001b[0m\u001b[0;34m[\u001b[0m\u001b[0mformula1\u001b[0m\u001b[0;34m(\u001b[0m\u001b[0mx_\u001b[0m\u001b[0;34m,\u001b[0m \u001b[0mmu\u001b[0m\u001b[0;34m,\u001b[0m \u001b[0msigma\u001b[0m\u001b[0;34m)\u001b[0m \u001b[0;32mfor\u001b[0m \u001b[0mx_\u001b[0m \u001b[0;32min\u001b[0m \u001b[0mx\u001b[0m\u001b[0;34m]\u001b[0m\u001b[0;34m)\u001b[0m\u001b[0;34m\u001b[0m\u001b[0;34m\u001b[0m\u001b[0m\n\u001b[0m\u001b[1;32m     28\u001b[0m \u001b[0;34m\u001b[0m\u001b[0m\n\u001b[1;32m     29\u001b[0m     \u001b[0;32mreturn\u001b[0m \u001b[0mh\u001b[0m \u001b[0;34m*\u001b[0m \u001b[0my\u001b[0m\u001b[0;34m\u001b[0m\u001b[0;34m\u001b[0m\u001b[0m\n",
      "\u001b[0;32m<ipython-input-9-16cd027b08ec>\u001b[0m in \u001b[0;36mformula1\u001b[0;34m(x, mu, sigma)\u001b[0m\n\u001b[1;32m     20\u001b[0m             \u001b[0mval\u001b[0m \u001b[0;34m=\u001b[0m \u001b[0;34m(\u001b[0m\u001b[0;34m(\u001b[0m\u001b[0msigma\u001b[0m\u001b[0;34m)\u001b[0m \u001b[0;34m/\u001b[0m \u001b[0mtau\u001b[0m\u001b[0;34m)\u001b[0m \u001b[0;34m*\u001b[0m \u001b[0mnp\u001b[0m\u001b[0;34m.\u001b[0m\u001b[0msqrt\u001b[0m\u001b[0;34m(\u001b[0m\u001b[0mnp\u001b[0m\u001b[0;34m.\u001b[0m\u001b[0mpi\u001b[0m \u001b[0;34m/\u001b[0m \u001b[0;36m2\u001b[0m\u001b[0;34m)\u001b[0m \u001b[0;34m*\u001b[0m \u001b[0mnp\u001b[0m\u001b[0;34m.\u001b[0m\u001b[0mexp\u001b[0m\u001b[0;34m(\u001b[0m\u001b[0;36m0.5\u001b[0m \u001b[0;34m*\u001b[0m \u001b[0;34m(\u001b[0m\u001b[0msigma\u001b[0m \u001b[0;34m/\u001b[0m \u001b[0mtau\u001b[0m\u001b[0;34m)\u001b[0m\u001b[0;34m**\u001b[0m\u001b[0;36m2\u001b[0m \u001b[0;34m-\u001b[0m \u001b[0;34m(\u001b[0m\u001b[0;34m(\u001b[0m\u001b[0mx\u001b[0m \u001b[0;34m-\u001b[0m \u001b[0mmu\u001b[0m\u001b[0;34m)\u001b[0m \u001b[0;34m/\u001b[0m \u001b[0mtau\u001b[0m\u001b[0;34m)\u001b[0m\u001b[0;34m)\u001b[0m \u001b[0;34m*\u001b[0m \u001b[0mscipy\u001b[0m\u001b[0;34m.\u001b[0m\u001b[0mspecial\u001b[0m\u001b[0;34m.\u001b[0m\u001b[0merfc\u001b[0m\u001b[0;34m(\u001b[0m\u001b[0mz\u001b[0m\u001b[0;34m)\u001b[0m\u001b[0;34m\u001b[0m\u001b[0;34m\u001b[0m\u001b[0m\n\u001b[1;32m     21\u001b[0m         \u001b[0;32melif\u001b[0m \u001b[0mz\u001b[0m \u001b[0;34m<\u001b[0m \u001b[0;36m6.71\u001b[0m\u001b[0;34m*\u001b[0m\u001b[0;36m10\u001b[0m\u001b[0;34m**\u001b[0m\u001b[0;36m7\u001b[0m\u001b[0;34m:\u001b[0m\u001b[0;34m\u001b[0m\u001b[0;34m\u001b[0m\u001b[0m\n\u001b[0;32m---> 22\u001b[0;31m             \u001b[0mval\u001b[0m \u001b[0;34m=\u001b[0m \u001b[0mnp\u001b[0m\u001b[0;34m.\u001b[0m\u001b[0mexp\u001b[0m\u001b[0;34m(\u001b[0m\u001b[0;34m-\u001b[0m\u001b[0;36m0.5\u001b[0m \u001b[0;34m*\u001b[0m \u001b[0;34m(\u001b[0m\u001b[0;34m(\u001b[0m\u001b[0mx\u001b[0m \u001b[0;34m-\u001b[0m \u001b[0mmu\u001b[0m\u001b[0;34m)\u001b[0m \u001b[0;34m/\u001b[0m \u001b[0msigma\u001b[0m\u001b[0;34m)\u001b[0m\u001b[0;34m**\u001b[0m\u001b[0;36m2\u001b[0m\u001b[0;34m)\u001b[0m \u001b[0;34m*\u001b[0m \u001b[0;34m(\u001b[0m\u001b[0msigma\u001b[0m\u001b[0;34m/\u001b[0m\u001b[0mtau\u001b[0m\u001b[0;34m)\u001b[0m \u001b[0;34m*\u001b[0m  \u001b[0mnp\u001b[0m\u001b[0;34m.\u001b[0m\u001b[0msqrt\u001b[0m\u001b[0;34m(\u001b[0m\u001b[0mnp\u001b[0m\u001b[0;34m.\u001b[0m\u001b[0mpi\u001b[0m \u001b[0;34m/\u001b[0m \u001b[0;36m2\u001b[0m\u001b[0;34m)\u001b[0m \u001b[0;34m*\u001b[0m \u001b[0mscipy\u001b[0m\u001b[0;34m.\u001b[0m\u001b[0mspecial\u001b[0m\u001b[0;34m.\u001b[0m\u001b[0merfcx\u001b[0m\u001b[0;34m(\u001b[0m\u001b[0mz\u001b[0m\u001b[0;34m)\u001b[0m\u001b[0;34m\u001b[0m\u001b[0;34m\u001b[0m\u001b[0m\n\u001b[0m\u001b[1;32m     23\u001b[0m         \u001b[0;32melse\u001b[0m\u001b[0;34m:\u001b[0m\u001b[0;34m\u001b[0m\u001b[0;34m\u001b[0m\u001b[0m\n\u001b[1;32m     24\u001b[0m             \u001b[0mval\u001b[0m \u001b[0;34m=\u001b[0m \u001b[0mnp\u001b[0m\u001b[0;34m.\u001b[0m\u001b[0mexp\u001b[0m\u001b[0;34m(\u001b[0m\u001b[0;34m-\u001b[0m\u001b[0;36m0.5\u001b[0m \u001b[0;34m*\u001b[0m \u001b[0;34m(\u001b[0m\u001b[0;34m(\u001b[0m\u001b[0mx\u001b[0m \u001b[0;34m-\u001b[0m \u001b[0mmu\u001b[0m\u001b[0;34m)\u001b[0m \u001b[0;34m/\u001b[0m \u001b[0msigma\u001b[0m\u001b[0;34m)\u001b[0m\u001b[0;34m**\u001b[0m\u001b[0;36m2\u001b[0m\u001b[0;34m)\u001b[0m \u001b[0;34m/\u001b[0m \u001b[0;34m(\u001b[0m\u001b[0;36m1\u001b[0m \u001b[0;34m+\u001b[0m \u001b[0;34m(\u001b[0m\u001b[0;34m(\u001b[0m\u001b[0;34m(\u001b[0m\u001b[0mx\u001b[0m  \u001b[0;34m-\u001b[0m\u001b[0mmu\u001b[0m\u001b[0;34m)\u001b[0m \u001b[0;34m*\u001b[0m \u001b[0mtau\u001b[0m\u001b[0;34m)\u001b[0m \u001b[0;34m/\u001b[0m \u001b[0msigma\u001b[0m\u001b[0;34m**\u001b[0m\u001b[0;36m2\u001b[0m\u001b[0;34m)\u001b[0m\u001b[0;34m)\u001b[0m\u001b[0;34m\u001b[0m\u001b[0;34m\u001b[0m\u001b[0m\n",
      "\u001b[0;31mKeyboardInterrupt\u001b[0m: "
     ]
    }
   ],
   "source": [
    "groups = sampled_df.groupby([\"flow\", \"sample\"]) #PARAMETRIC\n",
    "results_dict = {\n",
    "    \"flow\": [],\n",
    "    \"sample\": [],\n",
    "    \"mu\": [],\n",
    "    \"mu_x\": [],\n",
    "    \"lambda_\": [],\n",
    "    \"sigma\": []\n",
    "}\n",
    "for i, group in groups:\n",
    "    mu_x_alkuarvaus = 6.3259260\n",
    "    sigma_alkuarvaus = 32.18558379022995 * group[\"flow\"].iloc[0]\n",
    "    lambda_alkuarvaus = 0.01275965604990928 / group[\"flow\"].iloc[0]\n",
    "    bounds = [(mu_x_alkuarvaus - 4, mu_x_alkuarvaus + 4),\n",
    "         (4, 300),\n",
    "         (0.01, 20), (0, 3)]\n",
    "\n",
    "    x_0 = [mu_x_alkuarvaus, sigma_alkuarvaus, lambda_alkuarvaus, 1]\n",
    "\n",
    "    res = scipy.optimize.minimize(EMG_loss, args=group, x0=x_0)\n",
    "    #res = scipy.optimize.differential_evolution(EMG_loss, bounds=bounds, args=[group])\n",
    "    x_range = np.linspace(0, 300, 900)\n",
    "    mu = (group[\"input_x_max\"] + params[0] * 1000 / group[\"flow\"]).iloc[0]\n",
    "    sigma = (params[1] / group[\"flow\"]).iloc[0]\n",
    "    lambda_ = (np.exp(params[2] * group[\"flow\"])).iloc[0]\n",
    "    h = params[3]\n",
    "    pred_y = EMG(group[\"x\"], mu, sigma, lambda_, h)\n",
    "    plt.plot(group[\"x\"], pred_y, color=\"b\")\n",
    "    plt.plot(group[\"x\"], group[\"ss_tissue\"], color=\"r\")\n",
    "    print(f'FLOW: {group[\"flow\"].iloc[0]}, SAMPLE: {group[\"sample\"].iloc[0]}, SIGMA: {res[\"x\"][1]}, LAMBDA: {res[\"x\"][2]}, MU_x: {res[\"x\"][0]}')\n",
    "    plt.show()\n",
    "          \n",
    "    results_dict[\"flow\"].append(group[\"flow\"].iloc[0])\n",
    "    results_dict[\"sample\"].append(group[\"sample\"].iloc[0])\n",
    "    results_dict[\"mu\"].append(mu)\n",
    "    results_dict[\"mu_x\"].append(res[\"x\"][0])\n",
    "    results_dict[\"sigma\"].append(sigma)\n",
    "    results_dict[\"lambda_\"].append(lambda_)\n",
    "    "
   ]
  },
  {
   "cell_type": "code",
   "execution_count": null,
   "metadata": {},
   "outputs": [],
   "source": []
  },
  {
   "cell_type": "code",
   "execution_count": null,
   "metadata": {},
   "outputs": [],
   "source": []
  },
  {
   "cell_type": "code",
   "execution_count": null,
   "metadata": {},
   "outputs": [],
   "source": [
    "results_df = pd.DataFrame(results_dict)\n",
    "results_df = results_df.merge(feature_df, how=\"inner\", on=[\"flow\", \"sample\"])\n",
    "results_df"
   ]
  },
  {
   "cell_type": "code",
   "execution_count": null,
   "metadata": {},
   "outputs": [],
   "source": [
    "fit = smf.ols('np.log(lambda_) ~ I(flow)', data=results_df).fit()\n",
    "print(fit.summary())"
   ]
  },
  {
   "cell_type": "code",
   "execution_count": null,
   "metadata": {},
   "outputs": [],
   "source": [
    "plt.scatter(results_df[\"flow\"], np.log(results_df[\"lambda_\"]), color=\"r\")\n",
    "x_range = np.linspace(1, 300, 400)\n",
    "\n",
    "y_s = np.exp(fit.params[1] * x_range + fit.params[0])\n",
    "\n",
    "plt.plot(x_range, np.log(y_s), color=\"b\")"
   ]
  },
  {
   "cell_type": "code",
   "execution_count": null,
   "metadata": {},
   "outputs": [],
   "source": [
    "results_df"
   ]
  },
  {
   "cell_type": "code",
   "execution_count": null,
   "metadata": {},
   "outputs": [],
   "source": [
    "plt.scatter(results_df[\"flow\"], results_df[\"sigma\"])"
   ]
  },
  {
   "cell_type": "code",
   "execution_count": null,
   "metadata": {},
   "outputs": [],
   "source": [
    "#fit = smf.ols('sigma ~ I(1 / flow) + lambda_ - 1', data=results_df).fit()\n",
    "fit = smf.ols('sigma ~ I(1 / flow) - 1', data=results_df).fit()\n",
    "print(fit.summary())"
   ]
  },
  {
   "cell_type": "code",
   "execution_count": null,
   "metadata": {},
   "outputs": [],
   "source": [
    "plt.scatter(results_df[\"flow\"], results_df[\"sigma\"], color=\"r\")\n",
    "x_range = np.linspace(100, 300, 400)\n",
    "\n",
    "y_s = fit.params[0] / x_range\n",
    "\n",
    "plt.plot(x_range, y_s, color=\"b\")"
   ]
  },
  {
   "cell_type": "code",
   "execution_count": null,
   "metadata": {},
   "outputs": [],
   "source": [
    "#fit = smf.ols('sigma ~ I(1 / flow) + lambda_ - 1', data=results_df).fit()\n",
    "fit = smf.ols('mu_x ~ flow - 1', data=results_df).fit()\n",
    "print(fit.summary())"
   ]
  },
  {
   "cell_type": "code",
   "execution_count": null,
   "metadata": {},
   "outputs": [],
   "source": [
    "plt.scatter(results_df[\"flow\"], results_df[\"mu_x\"], color=\"r\")\n",
    "x_range = np.linspace(1, 300, 400)\n",
    "\n",
    "y_s = fit.params[0] * x_range\n",
    "\n",
    "plt.plot(x_range, y_s, color=\"b\")"
   ]
  },
  {
   "cell_type": "code",
   "execution_count": null,
   "metadata": {},
   "outputs": [],
   "source": [
    "results_df"
   ]
  },
  {
   "cell_type": "code",
   "execution_count": null,
   "metadata": {},
   "outputs": [],
   "source": [
    "#fit = smf.ols('sigma ~ I(1 / flow) + lambda_ - 1', data=results_df).fit()\n",
    "fit = smf.ols('mu_x ~ flow - 1', data=results_df).fit()\n",
    "print(fit.summary())"
   ]
  },
  {
   "cell_type": "code",
   "execution_count": null,
   "metadata": {},
   "outputs": [],
   "source": [
    "def EMG_loss(params, data):\n",
    "    \"\"\"\n",
    "    x[0] ja x[1]: lambda_ parametrit\n",
    "    x[2]: sigma_parametri\n",
    "    x[3]: mu_parametri\n",
    "    x[4]: h\n",
    "    \"\"\"\n",
    "    errors = []\n",
    "    #print(params)\n",
    "    groups = data.groupby([\"flow\", \"sample\"])\n",
    "    for i, group in groups:\n",
    "        mu = (group[\"input_x_max\"] + params[3] * 1000 / group[\"flow\"]).iloc[0]\n",
    "        lambda_ = (np.exp(params[0] * group[\"flow\"] + params[1])).iloc[0]\n",
    "        sigma = (params[2] / group[\"flow\"]).iloc[0]\n",
    "        h = params[4]\n",
    "        emg_vals = EMG(group[\"x\"], mu, lambda_, sigma, h)\n",
    "        #print(np.isnan(emg_vals).any())\n",
    "        error = np.sum((group[\"ss_tissue\"] - emg_vals) ** 2)\n",
    "        errors.append(error)\n",
    "    return sum(errors)"
   ]
  },
  {
   "cell_type": "code",
   "execution_count": null,
   "metadata": {},
   "outputs": [],
   "source": [
    "def EMG_loss(params, data):\n",
    "    \"\"\"\n",
    "    x[0] ja x[1]: lambda_ parametrit\n",
    "    x[2]: sigma_parametri\n",
    "    x[3]: mu_parametri\n",
    "    x[4]: h\n",
    "    \"\"\"\n",
    "    errors = []\n",
    "    #print(params)\n",
    "    groups = data.groupby([\"flow\", \"sample\"])\n",
    "    for i, group in groups:\n",
    "        mu = (group[\"input_x_max\"] + params[2] * 1000 / group[\"flow\"]).iloc[0]\n",
    "        lambda_ = (np.exp(params[0] * group[\"flow\"])).iloc[0]\n",
    "        sigma = (params[1] / group[\"flow\"]).iloc[0]\n",
    "        h = params[3]\n",
    "        emg_vals = EMG(group[\"x\"], mu, lambda_, sigma, h)\n",
    "        #print(np.isnan(emg_vals).any())\n",
    "        error = np.sum((group[\"ss_tissue\"] - emg_vals) ** 2)\n",
    "        errors.append(error)\n",
    "    return sum(errors)"
   ]
  },
  {
   "cell_type": "code",
   "execution_count": null,
   "metadata": {},
   "outputs": [],
   "source": [
    "\n",
    "x_0 = -5\n",
    "x_1 = 0.1\n",
    "x_2 = 3535.9386\n",
    "x_3 = 0.0192\n",
    "x_4 = 1\n",
    "\n",
    "bounds = [(-30, 30),\n",
    "         (0, 10),\n",
    "         (0, 100000),\n",
    "         (0, 20),\n",
    "         (0, 50)]\n",
    "\n",
    "\n",
    "bounds = [(-30, 30),\n",
    "         (0, 100000),\n",
    "         (0, 20),\n",
    "         (0, 50)]\n",
    "\n",
    "#x0 = [x_0, x_1, x_2, x_3, x_4]\n",
    "x0 = [x_0, x_2, x_3, x_4]\n",
    "\n",
    "res = scipy.optimize.minimize(EMG_loss, bounds=bounds, args=sampled_df, x0=x0)\n",
    "print(res)\n",
    "res = scipy.optimize.differential_evolution(EMG_loss, bounds=bounds, args=[sampled_df[0:801]])\n",
    "#x_range = np.linspace(0, 300, 900)\n",
    "#mu = (group[\"input_x_max\"] + res[\"x\"][0] * 1000 / group[\"flow\"]).iloc[0]\n",
    "#sigma = res[\"x\"][1]\n",
    "#lambda_ = res[\"x\"][2]\n",
    "#h = res[\"x\"][3]\n",
    "#pred_y = EMG(x_range, mu, sigma, lambda_, h)\n",
    "res"
   ]
  },
  {
   "cell_type": "code",
   "execution_count": null,
   "metadata": {},
   "outputs": [],
   "source": [
    "sampled_df[0:801]"
   ]
  },
  {
   "cell_type": "code",
   "execution_count": null,
   "metadata": {},
   "outputs": [],
   "source": [
    "groups = sampled_df.groupby([\"flow\", \"sample\"])\n",
    "vp_dict = {\n",
    "    \"std\": [],\n",
    "    \"mean\": [],\n",
    "    \"skewness\": []\n",
    "}\n",
    "for i, group in groups:\n",
    "    vals = group[\"ss_tissue\"]\n",
    "    vp_dict[\"mean\"].append(np.mean(vals))\n",
    "    vp_dict[\"std\"].append(np.std(vals))\n",
    "    vp_dict[\"skewness\"].append(scipy.stats.skew(vals))\n",
    "    \n",
    "vp = pd.DataFrame(vp_dict)\n",
    "vp"
   ]
  },
  {
   "cell_type": "code",
   "execution_count": null,
   "metadata": {},
   "outputs": [],
   "source": [
    "mu = vp[\"mean\"] - np.sqrt(vp[\"std\"]) * (vp[\"skewness\"] / 2) ** (1/3)\n",
    "sigma = vp[\"std\"] * (1 - (vp[\"skewness\"] / 2) ** (2/3))\n",
    "lambda_ = 1 / (np.sqrt(vp[\"std\"]) * (vp[\"skewness\"] / 2) ** (1 / 3))\n",
    "mu, sigma, lambda_"
   ]
  },
  {
   "cell_type": "code",
   "execution_count": null,
   "metadata": {},
   "outputs": [],
   "source": [
    "results_dict"
   ]
  },
  {
   "cell_type": "code",
   "execution_count": null,
   "metadata": {},
   "outputs": [],
   "source": [
    "groups = sampled_df.groupby([\"flow\", \"sample\"])\n",
    "results = []\n",
    "\n",
    "results_dict = {\n",
    "    \"flow\": [],\n",
    "    \"sample\": [],\n",
    "    \"mu\": [],\n",
    "    \"mu_x\": [],\n",
    "    \"lambda_\": [],\n",
    "    \"sigma\": []\n",
    "}\n",
    "for i, group in groups:\n",
    "    mu_x_alkuarvaus = 6.3259260\n",
    "    sigma_alkuarvaus = 20\n",
    "    lambda_alkuarvaus = 0.05\n",
    "\n",
    "    bounds = [(mu_x_alkuarvaus - 4, mu_x_alkuarvaus + 4),\n",
    "         (4, 300),\n",
    "         (0.01, 20), (0, 3)]\n",
    "\n",
    "    x_0 = [mu_x_alkuarvaus, sigma_alkuarvaus, lambda_alkuarvaus, 1]\n",
    "\n",
    "    res = scipy.optimize.minimize(EMG_loss, bounds=bounds, args=group, x0=x_0)\n",
    "    #res = scipy.optimize.differential_evolution(EMG_loss, bounds=bounds, args=[group])\n",
    "    x_range = np.linspace(0, 300, 900)\n",
    "    mu = (group[\"input_x_max\"] + res[\"x\"][0] * 1000 / group[\"flow\"]).iloc[0]\n",
    "    sigma = res[\"x\"][1]\n",
    "    lambda_ = res[\"x\"][2]\n",
    "    h = res[\"x\"][3]\n",
    "    pred_y = EMG(x_range, mu, sigma, lambda_, h)\n",
    "    plt.plot(x_range, pred_y, color=\"b\")\n",
    "    plt.plot(group[\"x\"], group[\"ss_tissue\"], color=\"r\")\n",
    "    print(f'FLOW: {group[\"flow\"].iloc[0]}, SAMPLE: {group[\"sample\"].iloc[0]}, SIGMA: {res[\"x\"][1]}, LAMBDA: {res[\"x\"][2]}, MU_x: {res[\"x\"][0]}')\n",
    "    plt.show()\n",
    "          \n",
    "    results_dict[\"flow\"].append(group[\"flow\"].iloc[0])\n",
    "    results_dict[\"sample\"].append(group[\"sample\"].iloc[0])\n",
    "    results_dict[\"mu\"].append(mu)\n",
    "    results_dict[\"mu_x\"].append(res[\"x\"][0])\n",
    "    results_dict[\"sigma\"].append(sigma)\n",
    "    results_dict[\"lambda_\"].append(lambda_)\n",
    "    \n",
    "\n",
    "    results.append(res)\n",
    "\n",
    "    "
   ]
  }
 ],
 "metadata": {
  "interpreter": {
   "hash": "0ae4e50df6a2411bfec566bc678181724dd60a15239539c6c1db20ef3f60ea3d"
  },
  "kernelspec": {
   "display_name": "Python 3.7.4 64-bit ('base': conda)",
   "name": "python3"
  },
  "language_info": {
   "codemirror_mode": {
    "name": "ipython",
    "version": 3
   },
   "file_extension": ".py",
   "mimetype": "text/x-python",
   "name": "python",
   "nbconvert_exporter": "python",
   "pygments_lexer": "ipython3",
   "version": "3.7.4"
  }
 },
 "nbformat": 4,
 "nbformat_minor": 4
}
