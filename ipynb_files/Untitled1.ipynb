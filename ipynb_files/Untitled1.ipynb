{
 "cells": [
  {
   "cell_type": "code",
   "execution_count": 1,
   "metadata": {},
   "outputs": [],
   "source": [
    "import numpy as np\n",
    "import matplotlib.pyplot as plt\n",
    "import pandas as pd\n",
    "from scipy.stats import exponnorm\n",
    "from scipy.optimize import curve_fit, minimize\n",
    "import scipy\n",
    "from scipy.interpolate import interp1d\n",
    "import scipy.stats as st"
   ]
  },
  {
   "cell_type": "code",
   "execution_count": 2,
   "metadata": {},
   "outputs": [],
   "source": [
    "data = pd.read_excel(\"TACs.xlsx\", sheet_name=None)\n",
    "relevant_keys = ['PT 300 ml Qclear 2', 'PT 300 ml Qclear 1', 'PT 200 ml Qclear 2', 'PT 200 ml Qclear 1', 'PT 100 ml Qclear 2', 'PT 100 ml Qclear 1']\n",
    "qclear = [2, 1, 2, 1, 2, 1]\n",
    "sizes = [300, 300, 200, 200, 100, 100]"
   ]
  },
  {
   "cell_type": "code",
   "execution_count": 3,
   "metadata": {},
   "outputs": [
    {
     "name": "stdout",
     "output_type": "stream",
     "text": [
      "2 300\n",
      "1 300\n",
      "2 200\n",
      "1 200\n",
      "2 100\n",
      "1 100\n"
     ]
    },
    {
     "name": "stderr",
     "output_type": "stream",
     "text": [
      "/home/mikael/anaconda3/lib/python3.7/site-packages/pandas/core/frame.py:3494: SettingWithCopyWarning: \n",
      "A value is trying to be set on a copy of a slice from a DataFrame.\n",
      "Try using .loc[row_indexer,col_indexer] = value instead\n",
      "\n",
      "See the caveats in the documentation: http://pandas.pydata.org/pandas-docs/stable/user_guide/indexing.html#returning-a-view-versus-a-copy\n",
      "  self[k1] = value[k2]\n",
      "/home/mikael/anaconda3/lib/python3.7/site-packages/ipykernel_launcher.py:8: SettingWithCopyWarning: \n",
      "A value is trying to be set on a copy of a slice from a DataFrame.\n",
      "Try using .loc[row_indexer,col_indexer] = value instead\n",
      "\n",
      "See the caveats in the documentation: http://pandas.pydata.org/pandas-docs/stable/user_guide/indexing.html#returning-a-view-versus-a-copy\n",
      "  \n",
      "/home/mikael/anaconda3/lib/python3.7/site-packages/ipykernel_launcher.py:9: SettingWithCopyWarning: \n",
      "A value is trying to be set on a copy of a slice from a DataFrame.\n",
      "Try using .loc[row_indexer,col_indexer] = value instead\n",
      "\n",
      "See the caveats in the documentation: http://pandas.pydata.org/pandas-docs/stable/user_guide/indexing.html#returning-a-view-versus-a-copy\n",
      "  if __name__ == '__main__':\n"
     ]
    }
   ],
   "source": [
    "frames = []\n",
    "for key, clear, size in zip(relevant_keys, qclear, sizes):\n",
    "    print(clear, size)\n",
    "    frame = data[key]\n",
    "    df = frame.loc[5:]\n",
    "    df.columns = [\"time\", \"input\", \"tissue\"]\n",
    "    df[['time_start', 'time_end']] = df['time'].str.split(' - ', 1, expand=True)\n",
    "    df[\"qclear\"] = clear\n",
    "    df[\"size\"] = size\n",
    "    df = df.astype({'input': 'float64', 'tissue': 'float64', 'time_start': 'int32', 'time_end': 'int32'})\n",
    "    df = df.drop([\"time\"], axis=1)\n",
    "    df[\"midpoint\"] = (df[\"time_start\"] + df[\"time_end\"]) / 2\n",
    "    frames.append(df)\n",
    "df = pd.concat(frames)"
   ]
  },
  {
   "cell_type": "code",
   "execution_count": 4,
   "metadata": {},
   "outputs": [
    {
     "data": {
      "text/html": [
       "<div>\n",
       "<style scoped>\n",
       "    .dataframe tbody tr th:only-of-type {\n",
       "        vertical-align: middle;\n",
       "    }\n",
       "\n",
       "    .dataframe tbody tr th {\n",
       "        vertical-align: top;\n",
       "    }\n",
       "\n",
       "    .dataframe thead th {\n",
       "        text-align: right;\n",
       "    }\n",
       "</style>\n",
       "<table border=\"1\" class=\"dataframe\">\n",
       "  <thead>\n",
       "    <tr style=\"text-align: right;\">\n",
       "      <th></th>\n",
       "      <th>input</th>\n",
       "      <th>tissue</th>\n",
       "      <th>time_start</th>\n",
       "      <th>time_end</th>\n",
       "      <th>qclear</th>\n",
       "      <th>size</th>\n",
       "      <th>midpoint</th>\n",
       "    </tr>\n",
       "  </thead>\n",
       "  <tbody>\n",
       "    <tr>\n",
       "      <td>5</td>\n",
       "      <td>1.456478e+03</td>\n",
       "      <td>407.96191</td>\n",
       "      <td>0</td>\n",
       "      <td>5</td>\n",
       "      <td>2</td>\n",
       "      <td>300</td>\n",
       "      <td>2.5</td>\n",
       "    </tr>\n",
       "    <tr>\n",
       "      <td>6</td>\n",
       "      <td>1.278932e+03</td>\n",
       "      <td>459.05683</td>\n",
       "      <td>5</td>\n",
       "      <td>10</td>\n",
       "      <td>2</td>\n",
       "      <td>300</td>\n",
       "      <td>7.5</td>\n",
       "    </tr>\n",
       "    <tr>\n",
       "      <td>7</td>\n",
       "      <td>2.265328e+04</td>\n",
       "      <td>646.44457</td>\n",
       "      <td>10</td>\n",
       "      <td>15</td>\n",
       "      <td>2</td>\n",
       "      <td>300</td>\n",
       "      <td>12.5</td>\n",
       "    </tr>\n",
       "    <tr>\n",
       "      <td>8</td>\n",
       "      <td>4.574733e+05</td>\n",
       "      <td>10505.08901</td>\n",
       "      <td>15</td>\n",
       "      <td>20</td>\n",
       "      <td>2</td>\n",
       "      <td>300</td>\n",
       "      <td>17.5</td>\n",
       "    </tr>\n",
       "    <tr>\n",
       "      <td>9</td>\n",
       "      <td>1.643083e+06</td>\n",
       "      <td>89934.22971</td>\n",
       "      <td>20</td>\n",
       "      <td>25</td>\n",
       "      <td>2</td>\n",
       "      <td>300</td>\n",
       "      <td>22.5</td>\n",
       "    </tr>\n",
       "    <tr>\n",
       "      <td>...</td>\n",
       "      <td>...</td>\n",
       "      <td>...</td>\n",
       "      <td>...</td>\n",
       "      <td>...</td>\n",
       "      <td>...</td>\n",
       "      <td>...</td>\n",
       "      <td>...</td>\n",
       "    </tr>\n",
       "    <tr>\n",
       "      <td>24</td>\n",
       "      <td>1.392625e+06</td>\n",
       "      <td>784895.39999</td>\n",
       "      <td>140</td>\n",
       "      <td>160</td>\n",
       "      <td>1</td>\n",
       "      <td>100</td>\n",
       "      <td>150.0</td>\n",
       "    </tr>\n",
       "    <tr>\n",
       "      <td>25</td>\n",
       "      <td>6.902623e+05</td>\n",
       "      <td>925024.12368</td>\n",
       "      <td>160</td>\n",
       "      <td>190</td>\n",
       "      <td>1</td>\n",
       "      <td>100</td>\n",
       "      <td>175.0</td>\n",
       "    </tr>\n",
       "    <tr>\n",
       "      <td>26</td>\n",
       "      <td>2.563172e+05</td>\n",
       "      <td>870937.93689</td>\n",
       "      <td>190</td>\n",
       "      <td>220</td>\n",
       "      <td>1</td>\n",
       "      <td>100</td>\n",
       "      <td>205.0</td>\n",
       "    </tr>\n",
       "    <tr>\n",
       "      <td>27</td>\n",
       "      <td>7.789175e+04</td>\n",
       "      <td>634442.87209</td>\n",
       "      <td>220</td>\n",
       "      <td>250</td>\n",
       "      <td>1</td>\n",
       "      <td>100</td>\n",
       "      <td>235.0</td>\n",
       "    </tr>\n",
       "    <tr>\n",
       "      <td>28</td>\n",
       "      <td>2.397860e+04</td>\n",
       "      <td>369306.60994</td>\n",
       "      <td>250</td>\n",
       "      <td>280</td>\n",
       "      <td>1</td>\n",
       "      <td>100</td>\n",
       "      <td>265.0</td>\n",
       "    </tr>\n",
       "  </tbody>\n",
       "</table>\n",
       "<p>144 rows × 7 columns</p>\n",
       "</div>"
      ],
      "text/plain": [
       "           input        tissue  time_start  time_end  qclear  size  midpoint\n",
       "5   1.456478e+03     407.96191           0         5       2   300       2.5\n",
       "6   1.278932e+03     459.05683           5        10       2   300       7.5\n",
       "7   2.265328e+04     646.44457          10        15       2   300      12.5\n",
       "8   4.574733e+05   10505.08901          15        20       2   300      17.5\n",
       "9   1.643083e+06   89934.22971          20        25       2   300      22.5\n",
       "..           ...           ...         ...       ...     ...   ...       ...\n",
       "24  1.392625e+06  784895.39999         140       160       1   100     150.0\n",
       "25  6.902623e+05  925024.12368         160       190       1   100     175.0\n",
       "26  2.563172e+05  870937.93689         190       220       1   100     205.0\n",
       "27  7.789175e+04  634442.87209         220       250       1   100     235.0\n",
       "28  2.397860e+04  369306.60994         250       280       1   100     265.0\n",
       "\n",
       "[144 rows x 7 columns]"
      ]
     },
     "execution_count": 4,
     "metadata": {},
     "output_type": "execute_result"
    }
   ],
   "source": [
    "df"
   ]
  },
  {
   "cell_type": "code",
   "execution_count": 5,
   "metadata": {},
   "outputs": [
    {
     "name": "stdout",
     "output_type": "stream",
     "text": [
      "           input        tissue  time_start  time_end  qclear  size  midpoint  \\\n",
      "5   0.000000e+00       0.00000           0         5       1   300       2.5   \n",
      "6   6.941541e+02       8.35572           5        10       1   300       7.5   \n",
      "7   2.676082e+04     253.44331          10        15       1   300      12.5   \n",
      "8   4.446511e+05   10942.93182          15        20       1   300      17.5   \n",
      "9   1.545483e+06   86339.04796          20        25       1   300      22.5   \n",
      "10  2.327995e+06  268665.35355          25        30       1   300      27.5   \n",
      "11  2.104221e+06  491698.08214          30        35       1   300      32.5   \n",
      "12  1.512661e+06  664355.00086          35        40       1   300      37.5   \n",
      "13  9.866209e+05  758875.35632          40        45       1   300      42.5   \n",
      "14  6.056564e+05  786464.11886          45        50       1   300      47.5   \n",
      "15  3.513093e+05  762193.82031          50        55       1   300      52.5   \n",
      "16  2.207284e+05  702923.05542          55        60       1   300      57.5   \n",
      "17  1.377154e+05  625440.97544          60        65       1   300      62.5   \n",
      "18  8.082787e+04  535862.81845          65        70       1   300      67.5   \n",
      "19  2.962966e+04  404213.50370          70        80       1   300      75.0   \n",
      "20  3.799437e+03  255849.05051          80        90       1   300      85.0   \n",
      "21  3.132055e+02  151874.41842          90       100       1   300      95.0   \n",
      "22  0.000000e+00   65529.90765         100       120       1   300     110.0   \n",
      "23  0.000000e+00   18197.49000         120       140       1   300     130.0   \n",
      "24  4.462810e+00    5429.76845         140       160       1   300     150.0   \n",
      "25  3.047080e+00    2029.94366         160       190       1   300     175.0   \n",
      "26  0.000000e+00    1275.15817         190       220       1   300     205.0   \n",
      "27  4.149830e+01    1120.17601         220       250       1   300     235.0   \n",
      "28  1.620439e+03    1289.20938         250       280       1   300     265.0   \n",
      "\n",
      "    norm_tissue  norm_tissue_integral  \n",
      "5      0.000000          0.000000e+00  \n",
      "6      0.000001          2.147247e-07  \n",
      "7      0.000038          6.512968e-06  \n",
      "8      0.001658          2.812107e-04  \n",
      "9      0.013080          2.218735e-03  \n",
      "10     0.040702          6.904143e-03  \n",
      "11     0.074490          1.263562e-02  \n",
      "12     0.100647          1.707255e-02  \n",
      "13     0.114967          1.950152e-02  \n",
      "14     0.119146          2.021050e-02  \n",
      "15     0.115469          1.958680e-02  \n",
      "16     0.106490          1.806367e-02  \n",
      "17     0.094752          1.607254e-02  \n",
      "18     0.081181          1.377056e-02  \n",
      "19     0.061237          1.038745e-02  \n",
      "20     0.038760          6.574790e-03  \n",
      "21     0.023008          3.902858e-03  \n",
      "22     0.009928          1.683983e-03  \n",
      "23     0.002757          4.676378e-04  \n",
      "24     0.000823          1.395338e-04  \n",
      "25     0.000308          5.216535e-05  \n",
      "26     0.000193          3.276892e-05  \n",
      "27     0.000170          2.878620e-05  \n",
      "28     0.000195          3.313001e-05  \n"
     ]
    },
    {
     "name": "stderr",
     "output_type": "stream",
     "text": [
      "/home/mikael/anaconda3/lib/python3.7/site-packages/ipykernel_launcher.py:3: SettingWithCopyWarning: \n",
      "A value is trying to be set on a copy of a slice from a DataFrame.\n",
      "Try using .loc[row_indexer,col_indexer] = value instead\n",
      "\n",
      "See the caveats in the documentation: http://pandas.pydata.org/pandas-docs/stable/user_guide/indexing.html#returning-a-view-versus-a-copy\n",
      "  This is separate from the ipykernel package so we can avoid doing imports until\n",
      "/home/mikael/anaconda3/lib/python3.7/site-packages/ipykernel_launcher.py:4: SettingWithCopyWarning: \n",
      "A value is trying to be set on a copy of a slice from a DataFrame.\n",
      "Try using .loc[row_indexer,col_indexer] = value instead\n",
      "\n",
      "See the caveats in the documentation: http://pandas.pydata.org/pandas-docs/stable/user_guide/indexing.html#returning-a-view-versus-a-copy\n",
      "  after removing the cwd from sys.path.\n"
     ]
    }
   ],
   "source": [
    "selected = df[(df[\"qclear\"] == 1) & (df[\"size\"] == 300)]\n",
    "integral = np.trapz(selected[\"tissue\"], x=selected[\"midpoint\"])\n",
    "selected[\"norm_tissue\"] = selected[\"tissue\"] / sum(selected[\"tissue\"])\n",
    "selected[\"norm_tissue_integral\"] = selected[\"tissue\"] / integral\n",
    "print(selected)"
   ]
  },
  {
   "cell_type": "code",
   "execution_count": 6,
   "metadata": {},
   "outputs": [],
   "source": [
    "f = interp1d(selected[\"midpoint\"], selected[\"norm_tissue_integral\"], kind='cubic')"
   ]
  },
  {
   "cell_type": "code",
   "execution_count": 7,
   "metadata": {},
   "outputs": [
    {
     "data": {
      "image/png": "[encoded data removed]",
      "text/plain": [
       "<Figure size 432x288 with 1 Axes>"
      ]
     },
     "metadata": {
      "needs_background": "light"
     },
     "output_type": "display_data"
    }
   ],
   "source": [
    "min_inter, max_inter = min(selected[\"midpoint\"]), max(selected[\"midpoint\"])\n",
    "xnew = np.linspace(min_inter, max_inter, num=400, endpoint=True)\n",
    "plt.plot(selected[\"midpoint\"], selected[\"norm_tissue_integral\"], 'o', xnew, f(xnew), '-')\n",
    "plt.savefig(\"spline.jpg\")\n",
    "plt.show()"
   ]
  },
  {
   "cell_type": "code",
   "execution_count": 8,
   "metadata": {},
   "outputs": [],
   "source": [
    "def generate_samples(size, upper, lower):\n",
    "    samples = []\n",
    "    while len(samples) < size:\n",
    "        p = np.random.uniform(0, 1)\n",
    "        x = np.random.uniform(upper, lower)\n",
    "        if f(x) > p:\n",
    "            samples.append(x)\n",
    "    return samples"
   ]
  },
  {
   "cell_type": "code",
   "execution_count": 9,
   "metadata": {},
   "outputs": [],
   "source": [
    "samples = generate_samples(2000, min_inter, max_inter)"
   ]
  },
  {
   "cell_type": "code",
   "execution_count": 10,
   "metadata": {},
   "outputs": [
    {
     "data": {
      "text/plain": [
       "[<matplotlib.lines.Line2D at 0x7fa8d41ba6d0>,\n",
       " <matplotlib.lines.Line2D at 0x7fa8d41f1390>]"
      ]
     },
     "execution_count": 10,
     "metadata": {},
     "output_type": "execute_result"
    },
    {
     "data": {
      "image/png": "[encoded data removed]",
      "text/plain": [
       "<Figure size 432x288 with 1 Axes>"
      ]
     },
     "metadata": {
      "needs_background": "light"
     },
     "output_type": "display_data"
    }
   ],
   "source": [
    "plt.hist(samples, density=True, bins=100)\n",
    "plt.plot(selected[\"midpoint\"], selected[\"norm_tissue_integral\"], 'o', xnew, f(xnew), '-')"
   ]
  },
  {
   "cell_type": "code",
   "execution_count": 11,
   "metadata": {},
   "outputs": [
    {
     "name": "stderr",
     "output_type": "stream",
     "text": [
      "/home/mikael/anaconda3/lib/python3.7/site-packages/scipy/stats/_continuous_distns.py:1415: RuntimeWarning: divide by zero encountered in log\n",
      "  return exparg + np.log(0.5 * invK * sc.erfc(-(x - invK) / np.sqrt(2)))\n"
     ]
    }
   ],
   "source": [
    "params = exponnorm.fit(samples)"
   ]
  },
  {
   "cell_type": "code",
   "execution_count": 12,
   "metadata": {},
   "outputs": [
    {
     "data": {
      "text/plain": [
       "(0.02974346089674828, 182.88509772087235, 41.412122551655294)"
      ]
     },
     "execution_count": 12,
     "metadata": {},
     "output_type": "execute_result"
    }
   ],
   "source": [
    "params"
   ]
  },
  {
   "cell_type": "code",
   "execution_count": 13,
   "metadata": {},
   "outputs": [
    {
     "data": {
      "text/plain": [
       "[<matplotlib.lines.Line2D at 0x7fa8d3e9a950>,\n",
       " <matplotlib.lines.Line2D at 0x7fa8d410fa90>]"
      ]
     },
     "execution_count": 13,
     "metadata": {},
     "output_type": "execute_result"
    },
    {
     "data": {
      "image/png": "[encoded data removed]",
      "text/plain": [
       "<Figure size 432x288 with 1 Axes>"
      ]
     },
     "metadata": {
      "needs_background": "light"
     },
     "output_type": "display_data"
    }
   ],
   "source": [
    "s = exponnorm.rvs(params[0], params[1], params[2], size=900)\n",
    "plt.plot(xnew, exponnorm.pdf(xnew, params[0], params[1], params[2]))\n",
    "plt.plot(selected[\"midpoint\"], selected[\"norm_tissue_integral\"], 'o', xnew, f(xnew), '-')"
   ]
  },
  {
   "cell_type": "code",
   "execution_count": 14,
   "metadata": {},
   "outputs": [
    {
     "data": {
      "image/png": "[encoded data removed]",
      "text/plain": [
       "<Figure size 432x288 with 1 Axes>"
      ]
     },
     "metadata": {
      "needs_background": "light"
     },
     "output_type": "display_data"
    }
   ],
   "source": [
    "plt.plot(selected[\"midpoint\"], selected[\"input\"], color=\"r\")\n",
    "plt.plot(selected[\"midpoint\"], selected[\"tissue\"], color=\"b\")\n",
    "plt.plot(xnew, integral * exponnorm.pdf(xnew, params[0], params[1], params[2]), color=\"c\")\n",
    "plt.savefig(\"testi.jpg\")"
   ]
  },
  {
   "cell_type": "code",
   "execution_count": null,
   "metadata": {},
   "outputs": [],
   "source": [
    "for s, q in zip(sizes, qclear):\n",
    "    data = selected = df[(df[\"qclear\"] == q) & (df[\"size\"] == s)]\n",
    "    max_input = np.max(data[\"input\"])\n",
    "    idx = np.argmax(data[\"input\"] > (max_input / 4))\n",
    "    data[\"a\"] = data[\"midpoint\"][idx]\n",
    "    print(s, q, data)"
   ]
  },
  {
   "cell_type": "markdown",
   "metadata": {},
   "source": [
    "Skaalaa tn-jakaumaksi\n",
    "Tee kde ja tee siitä otoksia\n",
    "Sovita tähän malli\n",
    "Skaalaa takaisin\n",
    "\n",
    "Update:\n",
    "Do this with minimize and define own curve to fit. This way you can fi"
   ]
  },
  {
   "cell_type": "code",
   "execution_count": 51,
   "metadata": {},
   "outputs": [
    {
     "name": "stderr",
     "output_type": "stream",
     "text": [
      "/home/mikael/anaconda3/lib/python3.7/site-packages/ipykernel_launcher.py:1: SettingWithCopyWarning: \n",
      "A value is trying to be set on a copy of a slice from a DataFrame.\n",
      "Try using .loc[row_indexer,col_indexer] = value instead\n",
      "\n",
      "See the caveats in the documentation: http://pandas.pydata.org/pandas-docs/stable/user_guide/indexing.html#returning-a-view-versus-a-copy\n",
      "  \"\"\"Entry point for launching an IPython kernel.\n"
     ]
    }
   ],
   "source": [
    "selected[\"tissue\"] /= max(selected[\"tissue\"])"
   ]
  },
  {
   "cell_type": "code",
   "execution_count": 67,
   "metadata": {},
   "outputs": [],
   "source": [
    "def exponential_gaussian(x, lambda_, mu, sigma, h):\n",
    "    return h * np.exp(0.5*lambda_*(2*mu+lambda_*sigma*sigma-2*x))*scipy.special.erfc((mu+lambda_*sigma*sigma-x)/(np.sqrt(2)*sigma))"
   ]
  },
  {
   "cell_type": "code",
   "execution_count": 53,
   "metadata": {},
   "outputs": [],
   "source": [
    "def exponential_gauss(x, mu, sigma, lambda_, scale):\n",
    "    K = 1 / (sigma * lambda_)\n",
    "    total = scipy.stats.exponnorm.pdf(x, K=K, loc=mu, scale=scale)\n",
    "    return total"
   ]
  },
  {
   "cell_type": "code",
   "execution_count": 90,
   "metadata": {},
   "outputs": [],
   "source": [
    "def EMG(x, h, mu, sigma, lambda_):\n",
    "    tau = 1 / lambda_\n",
    "    if tau <= 1e-3:\n",
    "        tau = 1e-6\n",
    "    if sigma <= 1e-3:\n",
    "        sigma = 1e-3\n",
    "    def formula(x, h, mu, sigma, tau):\n",
    "        z = (1 / np.sqrt(2)) * ((sigma / tau) - ((x - mu) / sigma))\n",
    "        val = h * np.exp(-0.5 * ((x - mu) / sigma)**2) * (sigma/tau) *  np.sqrt(np.pi / 2) * scipy.special.erfcx(z)\n",
    "        return val\n",
    "        print(here)\n",
    "        ### FIX THIS \n",
    "        if z < 6.71*10**7:\n",
    "            #val = ((h * sigma) / tau) * np.sqrt(np.pi / 2) * np.exp(0.5 * (sigma / tau)**2 - ((x - mu) / tau)) * scipy.special.erfcx(z)\n",
    "            val = h * np.exp(-0.5 * ((x - mu) / sigma)**2) * (sigma/tau) *  np.sqrt(np.pi / 2) * scipy.special.erfcx(z)\n",
    "            return val\n",
    "        else:\n",
    "            #print(\"here\")\n",
    "            #DONT USE\n",
    "            val = h * np.exp(-0.5 * ((x - mu) / sigma)**2) / (1 + (((x  -mu) * tau) / sigma**2))\n",
    "            return val\n",
    "    y = np.asarray([formula(x_, h, mu, sigma, tau) for x_ in x])\n",
    "    return y                                              "
   ]
  },
  {
   "cell_type": "code",
   "execution_count": null,
   "metadata": {},
   "outputs": [],
   "source": [
    "xnew = np.linspace(-4, 10, num=100, endpoint=True)\n",
    "# EMG == expg jos EMG h on vähän suurempi\n",
    "y_EMG = EMG(xnew, h=2.15, mu=0, sigma=3, lambda_=0.25)\n",
    "#y_expg = exponential_gaussian(xnew, lambda_=0.25, mu=0, sigma=3, scale=2)\n",
    "y_scipy = exponnorm.pdf(xnew, 0.5, 0.5, 1.25)\n",
    "y_sums = exponential_gauss(xnew, mu=3, sigma=1, lambda_=20, scale=3)\n",
    "#plt.plot(xnew, y_EMG)\n",
    "#plt.plot(xnew, y_expg)\n",
    "plt.plot(xnew, y_sums)\n",
    "#plt.plot(xnew, y_scipy)"
   ]
  },
  {
   "cell_type": "code",
   "execution_count": 31,
   "metadata": {},
   "outputs": [
    {
     "name": "stderr",
     "output_type": "stream",
     "text": [
      "/home/mikael/anaconda3/lib/python3.7/site-packages/ipykernel_launcher.py:12: RuntimeWarning: invalid value encountered in double_scalars\n",
      "  if sys.path[0] == '':\n"
     ]
    },
    {
     "data": {
      "text/plain": [
       "array([ 7.97586346e+05,  5.24104632e+01,  1.79791439e+01, -4.34020157e+03])"
      ]
     },
     "execution_count": 31,
     "metadata": {},
     "output_type": "execute_result"
    }
   ],
   "source": [
    "popt, pcov = curve_fit(EMG, xdata=selected[\"midpoint\"], ydata=selected[\"tissue\"], p0=[180, 30, 40, 1])\n",
    "popt"
   ]
  },
  {
   "cell_type": "code",
   "execution_count": null,
   "metadata": {},
   "outputs": [],
   "source": []
  },
  {
   "cell_type": "code",
   "execution_count": null,
   "metadata": {},
   "outputs": [],
   "source": [
    "xnew = np.linspace(min(selected[\"midpoint\"])-100, max(selected[\"midpoint\"]), num=100, endpoint=True)\n",
    "\n",
    "y_EMG = EMG(xnew, h=800000, mu=0, sigma=15, lambda_=0.01)\n",
    "#y_other = exponential_gaussian(xnew, h=5, mu=50, sigma=15, lambda_=0.25)\n",
    "y_log_norm = scipy.stats.lognorm.pdf(xnew, loc=50, scale=20, s=0.01)\n",
    "\n",
    "plt.plot(selected[\"midpoint\"], selected[\"tissue\"], marker=\"o\")\n",
    "plt.plot(xnew, y_EMG, color=\"r\")\n",
    "#plt.plot(xnew, y_log_norm)\n",
    "#plt.plot(xnew, y_other)"
   ]
  },
  {
   "cell_type": "code",
   "execution_count": null,
   "metadata": {},
   "outputs": [],
   "source": [
    "plt.plot(selected[\"midpoint\"], selected[\"tissue\"])\n",
    "x_points = np.arange(min(selected[\"midpoint\"]), max(selected[\"midpoint\"]))\n",
    "y_EMG = EMG(x_points, 910000, 180, 40, 1)\n",
    "plt.plot(x_points, y_EMG)\n"
   ]
  },
  {
   "cell_type": "code",
   "execution_count": 36,
   "metadata": {},
   "outputs": [
    {
     "data": {
      "text/plain": [
       "47.5"
      ]
     },
     "execution_count": 36,
     "metadata": {},
     "output_type": "execute_result"
    }
   ],
   "source": [
    "selected[\"midpoint\"][np.argmax(selected[\"tissue\"])]"
   ]
  },
  {
   "cell_type": "code",
   "execution_count": 95,
   "metadata": {},
   "outputs": [],
   "source": [
    "def EMG_loss(x):\n",
    "    # x[0] = h, x[1] = mu, x[2]= sigma, x[3] = lambda_, x[4]= x_axis_scale\n",
    "    x_times = selected[\"tissue\"]\n",
    "    tissues = selected[\"midpoint\"]\n",
    "    x_times = x_times - x[4]\n",
    "    EMG_val = EMG(x_times, x[0], x[1], x[2], x[3])\n",
    "    return np.sum((tissues - EMG_val) ** 2)"
   ]
  },
  {
   "cell_type": "code",
   "execution_count": 96,
   "metadata": {},
   "outputs": [
    {
     "name": "stderr",
     "output_type": "stream",
     "text": [
      "/home/mikael/anaconda3/lib/python3.7/site-packages/ipykernel_launcher.py:9: RuntimeWarning: invalid value encountered in double_scalars\n",
      "  if __name__ == '__main__':\n"
     ]
    },
    {
     "data": {
      "text/plain": [
       "107888227620.54897"
      ]
     },
     "execution_count": 96,
     "metadata": {},
     "output_type": "execute_result"
    }
   ],
   "source": [
    "EMG_loss([max_tissue, 4, 30, 4, highest_x_val])"
   ]
  },
  {
   "cell_type": "code",
   "execution_count": 97,
   "metadata": {},
   "outputs": [
    {
     "name": "stderr",
     "output_type": "stream",
     "text": [
      "/home/mikael/anaconda3/lib/python3.7/site-packages/ipykernel_launcher.py:9: RuntimeWarning: invalid value encountered in double_scalars\n",
      "  if __name__ == '__main__':\n"
     ]
    },
    {
     "data": {
      "text/plain": [
       "      fun: 0.0\n",
       " hess_inv: array([[ 1.00000000e+00,  1.04037606e-05, -1.33288076e-05,\n",
       "        -6.11016342e-07,  1.04037606e-05],\n",
       "       [ 1.04037606e-05,  7.01212473e-01,  3.52883874e-01,\n",
       "         1.71634396e-02, -2.98787527e-01],\n",
       "       [-1.33288076e-05,  3.52883874e-01,  6.21377510e-01,\n",
       "        -1.97805156e-02,  3.52883874e-01],\n",
       "       [-6.11016342e-07,  1.71634396e-02, -1.97805156e-02,\n",
       "         9.99020374e-01,  1.71634396e-02],\n",
       "       [ 1.04037606e-05, -2.98787527e-01,  3.52883874e-01,\n",
       "         1.71634396e-02,  7.01212473e-01]])\n",
       "      jac: array([0., 0., 0., 0., 0.])\n",
       "  message: 'Optimization terminated successfully.'\n",
       "     nfev: 28\n",
       "      nit: 2\n",
       "     njev: 4\n",
       "   status: 0\n",
       "  success: True\n",
       "        x: array([ 7.86464122e+05, -2.38936263e+01, -2.06589278e+01,  4.52766299e+00,\n",
       "        1.96063737e+01])"
      ]
     },
     "execution_count": 97,
     "metadata": {},
     "output_type": "execute_result"
    }
   ],
   "source": [
    "max_tissue = max(selected[\"tissue\"])\n",
    "highest_x_val = selected[\"midpoint\"][np.argmax(selected[\"tissue\"])]\n",
    "scipy.optimize.minimize(EMG_loss, x0=[max_tissue, 4, 30, 4, highest_x_val])"
   ]
  },
  {
   "cell_type": "code",
   "execution_count": null,
   "metadata": {},
   "outputs": [],
   "source": []
  }
 ],
 "metadata": {
  "kernelspec": {
   "display_name": "Python 3",
   "language": "python",
   "name": "python3"
  },
  "language_info": {
   "codemirror_mode": {
    "name": "ipython",
    "version": 3
   },
   "file_extension": ".py",
   "mimetype": "text/x-python",
   "name": "python",
   "nbconvert_exporter": "python",
   "pygments_lexer": "ipython3",
   "version": "3.7.4"
  }
 },
 "nbformat": 4,
 "nbformat_minor": 4
}
